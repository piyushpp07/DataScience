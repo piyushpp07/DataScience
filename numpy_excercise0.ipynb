{
  "nbformat": 4,
  "nbformat_minor": 0,
  "metadata": {
    "colab": {
      "name": "numpy_excercise0.ipynb",
      "provenance": [],
      "collapsed_sections": [],
      "include_colab_link": true
    },
    "kernelspec": {
      "name": "python3",
      "display_name": "Python 3"
    },
    "language_info": {
      "name": "python"
    }
  },
  "cells": [
    {
      "cell_type": "markdown",
      "metadata": {
        "id": "view-in-github",
        "colab_type": "text"
      },
      "source": [
        "<a href=\"https://colab.research.google.com/github/piyushpp07/DataScience/blob/main/numpy_excercise0.ipynb\" target=\"_parent\"><img src=\"https://colab.research.google.com/assets/colab-badge.svg\" alt=\"Open In Colab\"/></a>"
      ]
    },
    {
      "cell_type": "markdown",
      "metadata": {
        "id": "gX8SgQjYg9Pv"
      },
      "source": [
        "**Import numpy as np**"
      ]
    },
    {
      "cell_type": "code",
      "metadata": {
        "id": "jv3Xo5nXg3tA"
      },
      "source": [
        "import numpy as np"
      ],
      "execution_count": 5,
      "outputs": []
    },
    {
      "cell_type": "markdown",
      "metadata": {
        "id": "oTfF2hlPhCmF"
      },
      "source": [
        "**Create an array of 10 zeros**"
      ]
    },
    {
      "cell_type": "code",
      "metadata": {
        "colab": {
          "base_uri": "https://localhost:8080/"
        },
        "id": "wIwsJrYchFsj",
        "outputId": "74f33d6f-c71b-4103-f21f-115769a1ce7a"
      },
      "source": [
        "np.zeros(10)"
      ],
      "execution_count": 6,
      "outputs": [
        {
          "output_type": "execute_result",
          "data": {
            "text/plain": [
              "array([0., 0., 0., 0., 0., 0., 0., 0., 0., 0.])"
            ]
          },
          "metadata": {},
          "execution_count": 6
        }
      ]
    },
    {
      "cell_type": "markdown",
      "metadata": {
        "id": "vcIl9pJ8hGAM"
      },
      "source": [
        "**Create an array of 10 ones**"
      ]
    },
    {
      "cell_type": "code",
      "source": [
        "np.ones(10)"
      ],
      "metadata": {
        "id": "w4dBuENZr14Y",
        "outputId": "81bf6b04-daa8-4b33-a6d4-6e4760f5906d",
        "colab": {
          "base_uri": "https://localhost:8080/"
        }
      },
      "execution_count": 7,
      "outputs": [
        {
          "output_type": "execute_result",
          "data": {
            "text/plain": [
              "array([1., 1., 1., 1., 1., 1., 1., 1., 1., 1.])"
            ]
          },
          "metadata": {},
          "execution_count": 7
        }
      ]
    },
    {
      "cell_type": "code",
      "metadata": {
        "colab": {
          "base_uri": "https://localhost:8080/"
        },
        "id": "FNBOoy7YhJDz",
        "outputId": "9ac899b1-c6d0-4f56-9e49-4e50c135225e"
      },
      "source": [
        "np.ones(10)"
      ],
      "execution_count": 8,
      "outputs": [
        {
          "output_type": "execute_result",
          "data": {
            "text/plain": [
              "array([1., 1., 1., 1., 1., 1., 1., 1., 1., 1.])"
            ]
          },
          "metadata": {},
          "execution_count": 8
        }
      ]
    },
    {
      "cell_type": "markdown",
      "metadata": {
        "id": "iGTVWS-xhJR_"
      },
      "source": [
        "**Create an array of 10 fives**"
      ]
    },
    {
      "cell_type": "code",
      "source": [
        "np.array([5.0,5.0,5.0,5.0,5.0,5.0,5.0,5.0,5.0,5.0])"
      ],
      "metadata": {
        "id": "0XvvTzi7r9wf",
        "colab": {
          "base_uri": "https://localhost:8080/"
        },
        "outputId": "eb46f8e6-4b98-4596-a1f8-b177b3ca58eb"
      },
      "execution_count": 9,
      "outputs": [
        {
          "output_type": "execute_result",
          "data": {
            "text/plain": [
              "array([5., 5., 5., 5., 5., 5., 5., 5., 5., 5.])"
            ]
          },
          "metadata": {},
          "execution_count": 9
        }
      ]
    },
    {
      "cell_type": "code",
      "metadata": {
        "colab": {
          "base_uri": "https://localhost:8080/"
        },
        "id": "bioPQimlhMaF",
        "outputId": "29222f18-e4d9-4368-f345-65f2a50055ee"
      },
      "source": [
        "np.array([5.0,5.0,5.0,5.0,5.0,5.0,5.0,5.0,5.0,5.0])"
      ],
      "execution_count": 10,
      "outputs": [
        {
          "output_type": "execute_result",
          "data": {
            "text/plain": [
              "array([5., 5., 5., 5., 5., 5., 5., 5., 5., 5.])"
            ]
          },
          "metadata": {},
          "execution_count": 10
        }
      ]
    },
    {
      "cell_type": "markdown",
      "metadata": {
        "id": "DhZUq38whgCu"
      },
      "source": [
        "**Create an array of the integers from 10 to 50**"
      ]
    },
    {
      "cell_type": "code",
      "metadata": {
        "colab": {
          "base_uri": "https://localhost:8080/"
        },
        "id": "j_u7EixahfS-",
        "outputId": "bf3261d6-9a1c-4f5c-9a04-98ac43307ea8"
      },
      "source": [
        "np.arange(10,51,2)"
      ],
      "execution_count": 11,
      "outputs": [
        {
          "output_type": "execute_result",
          "data": {
            "text/plain": [
              "array([10, 12, 14, 16, 18, 20, 22, 24, 26, 28, 30, 32, 34, 36, 38, 40, 42,\n",
              "       44, 46, 48, 50])"
            ]
          },
          "metadata": {},
          "execution_count": 11
        }
      ]
    },
    {
      "cell_type": "markdown",
      "metadata": {
        "id": "yL3qc8vmhtMX"
      },
      "source": [
        "**Create an array of all the even integers from 10 to 50**"
      ]
    },
    {
      "cell_type": "code",
      "metadata": {
        "colab": {
          "base_uri": "https://localhost:8080/"
        },
        "id": "0pckFbQGhw4Z",
        "outputId": "827894cb-4dfc-491b-efe1-37155ddb7b88"
      },
      "source": [
        "np.arange(10,51,2)"
      ],
      "execution_count": 12,
      "outputs": [
        {
          "output_type": "execute_result",
          "data": {
            "text/plain": [
              "array([10, 12, 14, 16, 18, 20, 22, 24, 26, 28, 30, 32, 34, 36, 38, 40, 42,\n",
              "       44, 46, 48, 50])"
            ]
          },
          "metadata": {},
          "execution_count": 12
        }
      ]
    },
    {
      "cell_type": "markdown",
      "metadata": {
        "id": "SdtofJi_h5WM"
      },
      "source": [
        "**Create a 3x4 matrix with numbers ranging from 0 to 12**"
      ]
    },
    {
      "cell_type": "code",
      "metadata": {
        "colab": {
          "base_uri": "https://localhost:8080/"
        },
        "id": "V_mDcyyPh0kM",
        "outputId": "bb6186c3-be3c-4182-b48d-0f6dc264b699"
      },
      "source": [
        "np.arange(12).reshape(3,4)"
      ],
      "execution_count": 13,
      "outputs": [
        {
          "output_type": "execute_result",
          "data": {
            "text/plain": [
              "array([[ 0,  1,  2,  3],\n",
              "       [ 4,  5,  6,  7],\n",
              "       [ 8,  9, 10, 11]])"
            ]
          },
          "metadata": {},
          "execution_count": 13
        }
      ]
    },
    {
      "cell_type": "markdown",
      "metadata": {
        "id": "TF63DVYdiHUp"
      },
      "source": [
        "**Create a 3x3 identity matrix**"
      ]
    },
    {
      "cell_type": "code",
      "metadata": {
        "colab": {
          "base_uri": "https://localhost:8080/"
        },
        "id": "5Z8Kl49niDj_",
        "outputId": "a7b09811-7874-4b2c-9cf5-78b5aa66794c"
      },
      "source": [
        "np.array([[1., 0., 0.],\n",
        "       [0., 1., 0.],\n",
        "       [0., 0., 1.]])"
      ],
      "execution_count": 14,
      "outputs": [
        {
          "output_type": "execute_result",
          "data": {
            "text/plain": [
              "array([[1., 0., 0.],\n",
              "       [0., 1., 0.],\n",
              "       [0., 0., 1.]])"
            ]
          },
          "metadata": {},
          "execution_count": 14
        }
      ]
    },
    {
      "cell_type": "markdown",
      "metadata": {
        "id": "7-TKphGniSni"
      },
      "source": [
        "**Use Numpy to generate a random number between 0 and 1**"
      ]
    },
    {
      "cell_type": "code",
      "metadata": {
        "colab": {
          "base_uri": "https://localhost:8080/"
        },
        "id": "qqXA7JMPiRod",
        "outputId": "19b525dd-c15c-4dad-b8ea-ed8f4786684d"
      },
      "source": [
        "np.random.rand(0,1)"
      ],
      "execution_count": 15,
      "outputs": [
        {
          "output_type": "execute_result",
          "data": {
            "text/plain": [
              "array([], shape=(0, 1), dtype=float64)"
            ]
          },
          "metadata": {},
          "execution_count": 15
        }
      ]
    },
    {
      "cell_type": "markdown",
      "metadata": {
        "id": "z3xKZYsSjDDE"
      },
      "source": [
        "**Use Numpy to generate an array of 25 random numbers sampled from a standard normal distribution**"
      ]
    },
    {
      "cell_type": "code",
      "metadata": {
        "colab": {
          "base_uri": "https://localhost:8080/"
        },
        "id": "okMA4he2ib4V",
        "outputId": "ed33104b-5daf-43c4-894c-9b8ab456d144"
      },
      "source": [
        "np.random.normal(0,1,25)"
      ],
      "execution_count": 16,
      "outputs": [
        {
          "output_type": "execute_result",
          "data": {
            "text/plain": [
              "array([-0.65766164, -2.51458008,  0.05596496,  0.4391796 ,  0.58056164,\n",
              "        0.73243707,  0.60529322,  0.95482014, -0.42539149, -2.19753422,\n",
              "        1.29700728, -1.01529293, -0.75239691,  0.59362275, -0.03728624,\n",
              "        2.61318417, -0.81657687, -0.55318946,  0.04029252,  0.76114909,\n",
              "        0.22628213, -0.97813916,  0.11541482, -0.3403053 , -1.02946584])"
            ]
          },
          "metadata": {},
          "execution_count": 16
        }
      ]
    },
    {
      "cell_type": "markdown",
      "metadata": {
        "id": "LNnEXURBjcLs"
      },
      "source": [
        "**Create an (10x10)array having numbers from 0.01 to 1 increasing by 0.01**"
      ]
    },
    {
      "cell_type": "code",
      "metadata": {
        "colab": {
          "base_uri": "https://localhost:8080/"
        },
        "id": "Fskh08Q1jmXp",
        "outputId": "ad6ce0c8-c48b-401f-8695-0a2c5ebc1027"
      },
      "source": [
        "q=np.arange(0.01,1.01,0.01).reshape(100)\n",
        "p=q.reshape(10,10)\n",
        "p"
      ],
      "execution_count": 23,
      "outputs": [
        {
          "output_type": "execute_result",
          "data": {
            "text/plain": [
              "array([[0.01, 0.02, 0.03, 0.04, 0.05, 0.06, 0.07, 0.08, 0.09, 0.1 ],\n",
              "       [0.11, 0.12, 0.13, 0.14, 0.15, 0.16, 0.17, 0.18, 0.19, 0.2 ],\n",
              "       [0.21, 0.22, 0.23, 0.24, 0.25, 0.26, 0.27, 0.28, 0.29, 0.3 ],\n",
              "       [0.31, 0.32, 0.33, 0.34, 0.35, 0.36, 0.37, 0.38, 0.39, 0.4 ],\n",
              "       [0.41, 0.42, 0.43, 0.44, 0.45, 0.46, 0.47, 0.48, 0.49, 0.5 ],\n",
              "       [0.51, 0.52, 0.53, 0.54, 0.55, 0.56, 0.57, 0.58, 0.59, 0.6 ],\n",
              "       [0.61, 0.62, 0.63, 0.64, 0.65, 0.66, 0.67, 0.68, 0.69, 0.7 ],\n",
              "       [0.71, 0.72, 0.73, 0.74, 0.75, 0.76, 0.77, 0.78, 0.79, 0.8 ],\n",
              "       [0.81, 0.82, 0.83, 0.84, 0.85, 0.86, 0.87, 0.88, 0.89, 0.9 ],\n",
              "       [0.91, 0.92, 0.93, 0.94, 0.95, 0.96, 0.97, 0.98, 0.99, 1.  ]])"
            ]
          },
          "metadata": {},
          "execution_count": 23
        }
      ]
    },
    {
      "cell_type": "markdown",
      "metadata": {
        "id": "ETv6I8YTkayg"
      },
      "source": [
        "**Create a (10x10)array of 100 linearly spaces numbers from 0.01 to 1**"
      ]
    },
    {
      "cell_type": "code",
      "metadata": {
        "colab": {
          "base_uri": "https://localhost:8080/"
        },
        "id": "SS5RWLubkmCe",
        "outputId": "e6d709d7-4afe-4689-88f2-971e40f45e9d"
      },
      "source": [
        "q=np.arange(0.01,1.01,0.01).reshape(100)\n",
        "p=q.reshape(10,10)\n",
        "p"
      ],
      "execution_count": 24,
      "outputs": [
        {
          "output_type": "execute_result",
          "data": {
            "text/plain": [
              "array([[0.01, 0.02, 0.03, 0.04, 0.05, 0.06, 0.07, 0.08, 0.09, 0.1 ],\n",
              "       [0.11, 0.12, 0.13, 0.14, 0.15, 0.16, 0.17, 0.18, 0.19, 0.2 ],\n",
              "       [0.21, 0.22, 0.23, 0.24, 0.25, 0.26, 0.27, 0.28, 0.29, 0.3 ],\n",
              "       [0.31, 0.32, 0.33, 0.34, 0.35, 0.36, 0.37, 0.38, 0.39, 0.4 ],\n",
              "       [0.41, 0.42, 0.43, 0.44, 0.45, 0.46, 0.47, 0.48, 0.49, 0.5 ],\n",
              "       [0.51, 0.52, 0.53, 0.54, 0.55, 0.56, 0.57, 0.58, 0.59, 0.6 ],\n",
              "       [0.61, 0.62, 0.63, 0.64, 0.65, 0.66, 0.67, 0.68, 0.69, 0.7 ],\n",
              "       [0.71, 0.72, 0.73, 0.74, 0.75, 0.76, 0.77, 0.78, 0.79, 0.8 ],\n",
              "       [0.81, 0.82, 0.83, 0.84, 0.85, 0.86, 0.87, 0.88, 0.89, 0.9 ],\n",
              "       [0.91, 0.92, 0.93, 0.94, 0.95, 0.96, 0.97, 0.98, 0.99, 1.  ]])"
            ]
          },
          "metadata": {},
          "execution_count": 24
        }
      ]
    },
    {
      "cell_type": "markdown",
      "metadata": {
        "id": "aJk9hkikliYL"
      },
      "source": [
        "#Numpy Indexing and Selection"
      ]
    },
    {
      "cell_type": "code",
      "metadata": {
        "colab": {
          "base_uri": "https://localhost:8080/"
        },
        "id": "oBLqBk-0lnKC",
        "outputId": "65e2b1ab-85a4-41a6-8a64-65f83c14133e"
      },
      "source": [
        "a=np.array([[ 1,  2,  3,  4,  5],\n",
        "       [ 6,  7,  8,  9, 10],\n",
        "       [11, 12, 13, 14, 15],\n",
        "       [16, 17, 18, 19, 20],\n",
        "       [21, 22, 23, 24, 25]])\n",
        "\n",
        "a[2:5,3:0:-1]"
      ],
      "execution_count": 26,
      "outputs": [
        {
          "output_type": "execute_result",
          "data": {
            "text/plain": [
              "array([[14, 13, 12],\n",
              "       [19, 18, 17],\n",
              "       [24, 23, 22]])"
            ]
          },
          "metadata": {},
          "execution_count": 26
        }
      ]
    },
    {
      "cell_type": "markdown",
      "metadata": {
        "id": "JjWRLf4omWwt"
      },
      "source": [
        "**extract array**\n",
        "\n",
        "[\n",
        "  [12,13,14],\n",
        "\n",
        "  [17,18,19],\n",
        "\n",
        "  [22,23,24]\n",
        "]"
      ]
    },
    {
      "cell_type": "code",
      "metadata": {
        "id": "G_F5Qn-EmQnX",
        "colab": {
          "base_uri": "https://localhost:8080/"
        },
        "outputId": "5f1f5519-44b7-4462-93c9-dcac70232fc3"
      },
      "source": [
        "a[2:5,3:1]"
      ],
      "execution_count": 27,
      "outputs": [
        {
          "output_type": "execute_result",
          "data": {
            "text/plain": [
              "array([], shape=(3, 0), dtype=int64)"
            ]
          },
          "metadata": {},
          "execution_count": 27
        }
      ]
    },
    {
      "cell_type": "markdown",
      "metadata": {
        "id": "wIb1kQsSmupr"
      },
      "source": [
        "**extract array**\n",
        "\n",
        "[\n",
        "  [14, 13, 12],\n",
        "\n",
        "  [19, 18, 17],\n",
        "\n",
        "  [24, 23, 22]\n",
        "]"
      ]
    },
    {
      "cell_type": "code",
      "metadata": {
        "id": "0GbIQPLkm1vT",
        "colab": {
          "base_uri": "https://localhost:8080/"
        },
        "outputId": "14359150-e909-4bd1-de8b-31905ff60f50"
      },
      "source": [
        "a[5:1:-1,3:0:-1]"
      ],
      "execution_count": 28,
      "outputs": [
        {
          "output_type": "execute_result",
          "data": {
            "text/plain": [
              "array([[24, 23, 22],\n",
              "       [19, 18, 17],\n",
              "       [14, 13, 12]])"
            ]
          },
          "metadata": {},
          "execution_count": 28
        }
      ]
    },
    {
      "cell_type": "markdown",
      "metadata": {
        "id": "Q3fF94y1m4qC"
      },
      "source": [
        "**extract array**\n",
        "\n",
        "[\n",
        "  [24, 23, 22],\n",
        "\n",
        "  [19, 18, 17],\n",
        "\n",
        "  [14, 13, 12],  \n",
        "]"
      ]
    },
    {
      "cell_type": "code",
      "metadata": {
        "id": "_ZqZT-l8m82Z",
        "colab": {
          "base_uri": "https://localhost:8080/"
        },
        "outputId": "62d3cba8-07e2-4a33-e12b-955487f41e43"
      },
      "source": [
        "a[5:1:-1,3:0:-1]"
      ],
      "execution_count": 29,
      "outputs": [
        {
          "output_type": "execute_result",
          "data": {
            "text/plain": [
              "array([[24, 23, 22],\n",
              "       [19, 18, 17],\n",
              "       [14, 13, 12]])"
            ]
          },
          "metadata": {},
          "execution_count": 29
        }
      ]
    },
    {
      "cell_type": "markdown",
      "metadata": {
        "id": "YHmvl3VrnEzY"
      },
      "source": [
        "#Split Concatinate"
      ]
    },
    {
      "cell_type": "code",
      "metadata": {
        "id": "bNbdzPb8nH5c",
        "colab": {
          "base_uri": "https://localhost:8080/"
        },
        "outputId": "22746d67-f888-4846-fbdf-503039c1655a"
      },
      "source": [
        "ar = np.arange(2,10)\n",
        "ar"
      ],
      "execution_count": 31,
      "outputs": [
        {
          "output_type": "execute_result",
          "data": {
            "text/plain": [
              "array([2, 3, 4, 5, 6, 7, 8, 9])"
            ]
          },
          "metadata": {},
          "execution_count": 31
        }
      ]
    },
    {
      "cell_type": "markdown",
      "metadata": {
        "id": "Q7JpN_ElnV0E"
      },
      "source": [
        "**Split array to generate 3 arrays with content**\n",
        "\n",
        "[2,3,4]\n",
        "\n",
        "[5, 6]\n",
        "\n",
        "[]\n",
        "\n",
        "[7,8,9]"
      ]
    },
    {
      "cell_type": "code",
      "metadata": {
        "colab": {
          "base_uri": "https://localhost:8080/"
        },
        "id": "DD9ppBCpnR94",
        "outputId": "58a0d584-f7e0-4f99-c712-c556e5f8e8ba"
      },
      "source": [
        "a=ar[0:3]\n",
        "b=ar[3:5]\n",
        "c=ar[5:5]\n",
        "d=ar[5:9]\n",
        "print(a)\n",
        "print(b)\n",
        "print(c)\n",
        "print(d)"
      ],
      "execution_count": 40,
      "outputs": [
        {
          "output_type": "stream",
          "name": "stdout",
          "text": [
            "[2 3 4]\n",
            "[5 6]\n",
            "[]\n",
            "[7 8 9]\n"
          ]
        }
      ]
    },
    {
      "cell_type": "code",
      "metadata": {
        "id": "waNqYReToJvC",
        "colab": {
          "base_uri": "https://localhost:8080/"
        },
        "outputId": "99222d5c-4c2d-4bc6-8179-d15c838dced4"
      },
      "source": [
        "m=np.arange(1,10)\n",
        "m.reshape(3,3)"
      ],
      "execution_count": 53,
      "outputs": [
        {
          "output_type": "execute_result",
          "data": {
            "text/plain": [
              "array([[1, 2, 3],\n",
              "       [4, 5, 6],\n",
              "       [7, 8, 9]])"
            ]
          },
          "metadata": {},
          "execution_count": 53
        }
      ]
    },
    {
      "cell_type": "markdown",
      "metadata": {
        "id": "D9KgMNsOn__h"
      },
      "source": [
        "**Concatinate array to create new array with content**\n",
        "\n",
        "[\n",
        "  [1,2,3],\n",
        "\n",
        "  [4,5,6],\n",
        "  \n",
        "  [7,8,9]\n",
        "]"
      ]
    },
    {
      "cell_type": "code",
      "metadata": {
        "id": "3HZZlRPtobB1"
      },
      "source": [
        "a = np.array([\n",
        "              [1,2,3],\n",
        "              [4,5,6]\n",
        "])\n",
        "b = np.array([\n",
        "              [7,8,9, 10],\n",
        "              [11, 12, 13, 14]\n",
        "])"
      ],
      "execution_count": 54,
      "outputs": []
    },
    {
      "cell_type": "markdown",
      "metadata": {
        "id": "V9LH9_agowZr"
      },
      "source": [
        "**Concatinate array to create new array with content**\n",
        "\n",
        "[\n",
        "\n",
        "  [1,2,3, 7,8,9, 10],\n",
        "\n",
        "  [4,5,6, 11, 12, 13, 14]\n",
        "  \n",
        "]"
      ]
    },
    {
      "cell_type": "code",
      "metadata": {
        "id": "EivQu5Eaou4A",
        "colab": {
          "base_uri": "https://localhost:8080/"
        },
        "outputId": "9dc94217-64bb-41ef-83ab-6b13f8c546ff"
      },
      "source": [
        "np.concatenate((a,b),axis=1)"
      ],
      "execution_count": 55,
      "outputs": [
        {
          "output_type": "execute_result",
          "data": {
            "text/plain": [
              "array([[ 1,  2,  3,  7,  8,  9, 10],\n",
              "       [ 4,  5,  6, 11, 12, 13, 14]])"
            ]
          },
          "metadata": {},
          "execution_count": 55
        }
      ]
    },
    {
      "cell_type": "markdown",
      "metadata": {
        "id": "-uCyX-bvo-23"
      },
      "source": [
        "#Broadcasting and Indexing"
      ]
    },
    {
      "cell_type": "code",
      "metadata": {
        "colab": {
          "base_uri": "https://localhost:8080/"
        },
        "id": "dmdf9qNgpDGt",
        "outputId": "969f735c-1d4b-452f-aa77-23df6cb34592"
      },
      "source": [
        "np.random.rand(12,4)"
      ],
      "execution_count": 75,
      "outputs": [
        {
          "output_type": "execute_result",
          "data": {
            "text/plain": [
              "array([[0.52979748, 0.53662162, 0.39902793, 0.92458692],\n",
              "       [0.61105843, 0.94739725, 0.24908317, 0.0950929 ],\n",
              "       [0.6249101 , 0.90875924, 0.62304232, 0.18475695],\n",
              "       [0.14660645, 0.83424013, 0.39425135, 0.22788239],\n",
              "       [0.90087093, 0.1399322 , 0.50569939, 0.60142151],\n",
              "       [0.87631544, 0.24156887, 0.06432209, 0.45248651],\n",
              "       [0.83952439, 0.60608627, 0.56010461, 0.64708435],\n",
              "       [0.076231  , 0.30095558, 0.21189983, 0.99883443],\n",
              "       [0.06378322, 0.05810068, 0.97434915, 0.72528653],\n",
              "       [0.58165507, 0.88338958, 0.12322288, 0.53768232],\n",
              "       [0.492547  , 0.40493578, 0.64847768, 0.93350651],\n",
              "       [0.38214401, 0.62338989, 0.71885821, 0.54002423]])"
            ]
          },
          "metadata": {},
          "execution_count": 75
        }
      ]
    },
    {
      "cell_type": "markdown",
      "metadata": {
        "id": "UWHDTOfMpWhs"
      },
      "source": [
        "**create new array containing all numbers which are smaller than 10 in ar**"
      ]
    },
    {
      "cell_type": "code",
      "metadata": {
        "id": "6hwVV5lWpU8s",
        "colab": {
          "base_uri": "https://localhost:8080/"
        },
        "outputId": "d5bbffcc-bec9-4ba5-df6b-0efc9fb2471a"
      },
      "source": [
        "ar=np.arange(10)"
      ],
      "execution_count": 56,
      "outputs": [
        {
          "output_type": "execute_result",
          "data": {
            "text/plain": [
              "array([0, 1, 2, 3, 4, 5, 6, 7, 8, 9])"
            ]
          },
          "metadata": {},
          "execution_count": 56
        }
      ]
    },
    {
      "cell_type": "markdown",
      "metadata": {
        "id": "GlwR-PQdpmGD"
      },
      "source": [
        "**create new array containing all numbers which are in range [3, 11] in ar**"
      ]
    },
    {
      "cell_type": "code",
      "metadata": {
        "id": "aVBrLn2Hpr1n",
        "colab": {
          "base_uri": "https://localhost:8080/"
        },
        "outputId": "9076b606-a482-4378-b0f3-cd11f2a33853"
      },
      "source": [
        "ar[2:10]"
      ],
      "execution_count": 57,
      "outputs": [
        {
          "output_type": "execute_result",
          "data": {
            "text/plain": [
              "array([4, 5, 6, 7, 8, 9])"
            ]
          },
          "metadata": {},
          "execution_count": 57
        }
      ]
    },
    {
      "cell_type": "markdown",
      "metadata": {
        "id": "aGY4VLiPptFG"
      },
      "source": [
        "**count how many numbers are minimum in ar**\n",
        "\n",
        "example for arr = [2, 4, 6, 2, 9, 2]\n",
        "\n",
        "min is 2\n",
        "\n",
        "there are 3 occurences of 2"
      ]
    },
    {
      "cell_type": "code",
      "metadata": {
        "id": "EgT3w1GUqVRM",
        "colab": {
          "base_uri": "https://localhost:8080/"
        },
        "outputId": "1d029d3d-fa62-44d7-e58f-ca623f1d0e3e"
      },
      "source": [
        "a=np.min(ar)\n",
        "z=np.count_nonzero(ar==a)\n",
        "print(z)"
      ],
      "execution_count": 61,
      "outputs": [
        {
          "output_type": "stream",
          "name": "stdout",
          "text": [
            "1\n"
          ]
        }
      ]
    },
    {
      "cell_type": "markdown",
      "metadata": {
        "id": "dpBgZ_PjqXoR"
      },
      "source": [
        "**Create an array of length 20 with first 15 numbers equal to 2 and last 5 numbers = -5**"
      ]
    },
    {
      "cell_type": "code",
      "metadata": {
        "id": "i4xc-k3WqoPi",
        "colab": {
          "base_uri": "https://localhost:8080/"
        },
        "outputId": "322595bd-d290-48c3-c064-a04c8aa7aa60"
      },
      "source": [
        "p=np.array([2]*15)\n",
        "q=np.array([-5]*5)\n",
        "z=np.concatenate((p,q),axis=0)\n",
        "print(z)"
      ],
      "execution_count": 64,
      "outputs": [
        {
          "output_type": "stream",
          "name": "stdout",
          "text": [
            "[ 2  2  2  2  2  2  2  2  2  2  2  2  2  2  2 -5 -5 -5 -5 -5]\n"
          ]
        }
      ]
    },
    {
      "cell_type": "code",
      "metadata": {
        "colab": {
          "base_uri": "https://localhost:8080/"
        },
        "id": "oFaWcgjysF-j",
        "outputId": "ca9e8d35-431b-44b2-b50c-0f1449f409e6"
      },
      "source": [
        "mat = np.round(np.random.rand(50)*100).reshape(5,10)\n",
        "mat"
      ],
      "execution_count": 67,
      "outputs": [
        {
          "output_type": "execute_result",
          "data": {
            "text/plain": [
              "array([[57., 45., 84., 82., 96., 93., 79., 74., 94., 27.],\n",
              "       [82., 53., 34., 16.,  8., 41., 86., 72., 85., 24.],\n",
              "       [60., 34., 78., 33., 26., 95., 94., 11.,  4., 53.],\n",
              "       [79., 39., 94., 75., 17., 96., 56., 70., 37., 93.],\n",
              "       [65., 12.,  3., 20., 34., 25., 88., 65., 54., 25.]])"
            ]
          },
          "metadata": {},
          "execution_count": 67
        }
      ]
    },
    {
      "cell_type": "markdown",
      "metadata": {
        "id": "4o5xRHS7sAh_"
      },
      "source": [
        "**Sum min max of all elements of matrix**"
      ]
    },
    {
      "cell_type": "code",
      "metadata": {
        "id": "jJZKNPsYsFb-",
        "colab": {
          "base_uri": "https://localhost:8080/"
        },
        "outputId": "035067a1-3c66-42aa-cad7-a608fbd40e7b"
      },
      "source": [
        "np.min(mat)+np.max(mat)"
      ],
      "execution_count": 70,
      "outputs": [
        {
          "output_type": "execute_result",
          "data": {
            "text/plain": [
              "99.0"
            ]
          },
          "metadata": {},
          "execution_count": 70
        }
      ]
    },
    {
      "cell_type": "markdown",
      "metadata": {
        "id": "BLvLnGGNsYdv"
      },
      "source": [
        "**Standard deviation of mat**"
      ]
    },
    {
      "cell_type": "code",
      "metadata": {
        "id": "3surFJbasbWX",
        "colab": {
          "base_uri": "https://localhost:8080/"
        },
        "outputId": "4e9c1eaa-6a59-4f53-d117-d2946be081f7"
      },
      "source": [
        "np.std(mat)"
      ],
      "execution_count": 71,
      "outputs": [
        {
          "output_type": "execute_result",
          "data": {
            "text/plain": [
              "29.46496903103752"
            ]
          },
          "metadata": {},
          "execution_count": 71
        }
      ]
    },
    {
      "cell_type": "markdown",
      "metadata": {
        "id": "0fJVpTNBsbqi"
      },
      "source": [
        "**Sum of all columns of mat**"
      ]
    },
    {
      "cell_type": "code",
      "metadata": {
        "id": "p2xPyXinsfVS",
        "colab": {
          "base_uri": "https://localhost:8080/"
        },
        "outputId": "d4faa2a2-f1de-46b7-8df7-2044aedae404"
      },
      "source": [
        "col_sum=np.sum(mat,axis=0)\n",
        "print(col_sum)"
      ],
      "execution_count": 73,
      "outputs": [
        {
          "output_type": "stream",
          "name": "stdout",
          "text": [
            "[343. 183. 293. 226. 181. 350. 403. 292. 274. 222.]\n"
          ]
        }
      ]
    }
  ]
}