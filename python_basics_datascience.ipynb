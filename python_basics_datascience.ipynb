{
  "nbformat": 4,
  "nbformat_minor": 0,
  "metadata": {
    "colab": {
      "name": "python basics datascience.ipynb",
      "provenance": [],
      "collapsed_sections": [],
      "authorship_tag": "ABX9TyNkhvNwmPf5NtllNHnAd04V",
      "include_colab_link": true
    },
    "kernelspec": {
      "name": "python3",
      "display_name": "Python 3"
    },
    "language_info": {
      "name": "python"
    }
  },
  "cells": [
    {
      "cell_type": "markdown",
      "metadata": {
        "id": "view-in-github",
        "colab_type": "text"
      },
      "source": [
        "<a href=\"https://colab.research.google.com/github/piyushpp07/DataScience/blob/main/python_basics_datascience.ipynb\" target=\"_parent\"><img src=\"https://colab.research.google.com/assets/colab-badge.svg\" alt=\"Open In Colab\"/></a>"
      ]
    },
    {
      "cell_type": "code",
      "execution_count": null,
      "metadata": {
        "colab": {
          "base_uri": "https://localhost:8080/"
        },
        "id": "CW_MApJA9jpX",
        "outputId": "1f4dac0f-58b9-4fcc-b0f8-fcb8283033cd"
      },
      "outputs": [
        {
          "output_type": "stream",
          "name": "stdout",
          "text": [
            "Hello World\n",
            "piyush paradkar\n",
            "10 20 30\n"
          ]
        }
      ],
      "source": [
        "print(\"Hello World\")\n",
        "string = \"piyush paradkar\"\n",
        "print(string)\n",
        "a,b,c= 10,20,30\n",
        "print(a,b,c)"
      ]
    },
    {
      "cell_type": "code",
      "source": [
        "import keyword\n",
        "print(keyword.kwlist)"
      ],
      "metadata": {
        "colab": {
          "base_uri": "https://localhost:8080/"
        },
        "id": "c-uXEXpoADes",
        "outputId": "15f199eb-b348-43e0-b764-faf2907e2625"
      },
      "execution_count": null,
      "outputs": [
        {
          "output_type": "stream",
          "name": "stdout",
          "text": [
            "['False', 'None', 'True', 'and', 'as', 'assert', 'async', 'await', 'break', 'class', 'continue', 'def', 'del', 'elif', 'else', 'except', 'finally', 'for', 'from', 'global', 'if', 'import', 'in', 'is', 'lambda', 'nonlocal', 'not', 'or', 'pass', 'raise', 'return', 'try', 'while', 'with', 'yield']\n"
          ]
        }
      ]
    },
    {
      "cell_type": "code",
      "source": [
        "p1=\"Piyush\"\n",
        "for i in p1:\n",
        "  print(i)\n",
        "if \"iy\" in p1:\n",
        "  print(\"Yes\")\n",
        "else :\n",
        "  print(\"No\")"
      ],
      "metadata": {
        "colab": {
          "base_uri": "https://localhost:8080/"
        },
        "id": "rTN7udwnBuO0",
        "outputId": "5dff1df0-c5e9-486f-d520-9468b3e3a8f9"
      },
      "execution_count": null,
      "outputs": [
        {
          "output_type": "stream",
          "name": "stdout",
          "text": [
            "P\n",
            "i\n",
            "y\n",
            "u\n",
            "s\n",
            "h\n",
            "Yes\n"
          ]
        }
      ]
    },
    {
      "cell_type": "code",
      "source": [
        "p2=\"Hello my name is piyush\"\n",
        "print(p2.split(\" \"))"
      ],
      "metadata": {
        "colab": {
          "base_uri": "https://localhost:8080/"
        },
        "id": "2j4U0h5LHx8V",
        "outputId": "0399ec4c-e196-452d-f607-a532a7aa953e"
      },
      "execution_count": null,
      "outputs": [
        {
          "output_type": "stream",
          "name": "stdout",
          "text": [
            "['Hello', 'my', 'name', 'is', 'piyush']\n"
          ]
        }
      ]
    },
    {
      "cell_type": "code",
      "source": [
        "import numpy as np\n"
      ],
      "metadata": {
        "id": "AU6n3nnFCK25"
      },
      "execution_count": 17,
      "outputs": []
    },
    {
      "cell_type": "code",
      "source": [
        "qq=np.array([1,2,3,4,5],dtype='int8')\n",
        "%timeit qq.sum()"
      ],
      "metadata": {
        "colab": {
          "base_uri": "https://localhost:8080/"
        },
        "id": "Dcu_2yVECRIB",
        "outputId": "3b5e88de-32bc-4335-cbf9-734a03d1e3c3"
      },
      "execution_count": 12,
      "outputs": [
        {
          "output_type": "stream",
          "name": "stdout",
          "text": [
            "The slowest run took 1744.89 times longer than the fastest. This could mean that an intermediate result is being cached.\n",
            "100000 loops, best of 5: 2.32 µs per loop\n"
          ]
        }
      ]
    },
    {
      "cell_type": "code",
      "source": [
        "p= [1]*100\n",
        "%timeit sum(p)"
      ],
      "metadata": {
        "colab": {
          "base_uri": "https://localhost:8080/"
        },
        "id": "4CpPSYvREK85",
        "outputId": "b7af4914-74c9-4e7d-9d8f-049b2aba7bfc"
      },
      "execution_count": 11,
      "outputs": [
        {
          "output_type": "stream",
          "name": "stdout",
          "text": [
            "1000000 loops, best of 5: 871 ns per loop\n"
          ]
        }
      ]
    },
    {
      "cell_type": "code",
      "source": [
        "np.ones(10,dtype='int32')"
      ],
      "metadata": {
        "colab": {
          "base_uri": "https://localhost:8080/"
        },
        "id": "tJBWBRZ_GKQK",
        "outputId": "358bf044-70d9-41a5-c924-7cf0941327e9"
      },
      "execution_count": 18,
      "outputs": [
        {
          "output_type": "execute_result",
          "data": {
            "text/plain": [
              "array([1, 1, 1, 1, 1, 1, 1, 1, 1, 1], dtype=int32)"
            ]
          },
          "metadata": {},
          "execution_count": 18
        }
      ]
    },
    {
      "cell_type": "code",
      "source": [
        "np.ones((2,3),dtype='int32')"
      ],
      "metadata": {
        "colab": {
          "base_uri": "https://localhost:8080/"
        },
        "id": "0J_HvboVGhWz",
        "outputId": "3cfbab9f-f3c8-47ad-9e7a-d679c6c5b2b4"
      },
      "execution_count": 19,
      "outputs": [
        {
          "output_type": "execute_result",
          "data": {
            "text/plain": [
              "array([[1, 1, 1],\n",
              "       [1, 1, 1]], dtype=int32)"
            ]
          },
          "metadata": {},
          "execution_count": 19
        }
      ]
    },
    {
      "cell_type": "code",
      "source": [
        "ar=np.arange(3,20,3)\n",
        "ar"
      ],
      "metadata": {
        "colab": {
          "base_uri": "https://localhost:8080/"
        },
        "id": "amCvcxTpHVio",
        "outputId": "78e39f8e-374d-4e9f-a406-48140704e8f3"
      },
      "execution_count": 22,
      "outputs": [
        {
          "output_type": "execute_result",
          "data": {
            "text/plain": [
              "array([ 3,  6,  9, 12, 15, 18])"
            ]
          },
          "metadata": {},
          "execution_count": 22
        }
      ]
    },
    {
      "cell_type": "code",
      "source": [
        "ar[2:4]"
      ],
      "metadata": {
        "colab": {
          "base_uri": "https://localhost:8080/"
        },
        "id": "fmnS9sfyHkQE",
        "outputId": "0e9e3396-34de-4df4-caac-0dee6ea78237"
      },
      "execution_count": 23,
      "outputs": [
        {
          "output_type": "execute_result",
          "data": {
            "text/plain": [
              "array([ 9, 12])"
            ]
          },
          "metadata": {},
          "execution_count": 23
        }
      ]
    },
    {
      "cell_type": "code",
      "source": [
        "ar2=ar[2:5]\n",
        "print(ar)\n",
        "print(ar2)\n",
        "ar2[0]=1000\n",
        "print(ar)\n",
        "print(ar2)"
      ],
      "metadata": {
        "colab": {
          "base_uri": "https://localhost:8080/"
        },
        "id": "sHGa-K8dIlca",
        "outputId": "bb5a4ecb-463c-4752-e025-5b55c9bcb09b"
      },
      "execution_count": 27,
      "outputs": [
        {
          "output_type": "stream",
          "name": "stdout",
          "text": [
            "[1000    6    9   12   15   18]\n",
            "[ 9 12 15]\n",
            "[1000    6 1000   12   15   18]\n",
            "[1000   12   15]\n"
          ]
        }
      ]
    }
  ]
}