{
  "nbformat": 4,
  "nbformat_minor": 0,
  "metadata": {
    "colab": {
      "name": "LinearRegression_Assignment.ipynb",
      "provenance": [],
      "collapsed_sections": [],
      "include_colab_link": true
    },
    "kernelspec": {
      "name": "python3",
      "display_name": "Python 3"
    },
    "language_info": {
      "name": "python"
    }
  },
  "cells": [
    {
      "cell_type": "markdown",
      "metadata": {
        "id": "view-in-github",
        "colab_type": "text"
      },
      "source": [
        "<a href=\"https://colab.research.google.com/github/piyushpp07/DataScience/blob/main/22-01-13-LinearRegression/Assiggnment1Piyush_Paradkar.ipynb\" target=\"_parent\"><img src=\"https://colab.research.google.com/assets/colab-badge.svg\" alt=\"Open In Colab\"/></a>"
      ]
    },
    {
      "cell_type": "code",
      "source": [
        "import numpy as np\n",
        "import matplotlib.pyplot as plt\n",
        "import pandas as pd"
      ],
      "metadata": {
        "id": "6WNpN-FowLxT"
      },
      "execution_count": null,
      "outputs": []
    },
    {
      "cell_type": "markdown",
      "source": [
        "Feature Engineering "
      ],
      "metadata": {
        "id": "DbqTYrO2gqjt"
      }
    },
    {
      "cell_type": "markdown",
      "source": [
        "Feature Engineering is generally required when we do not have a correlation between the given features and the required label, in such a situation, one might want to merge a few features and create a feature having a better correlation. \n",
        "\n",
        "Taking a very basic example, if i have a some values of x, say -5,-4,-3,-2,... upto +5, and i have Y with values 25,16,9,4,... upto 25, now it is clear that y is the square of x. If i want to apply linear regression, obviously it will be very difficult if not impossible. Since it is a second degree curve.\n",
        "\n",
        "Another approach could be to use feature engineering, in this case if I , multiply x and x, it will become equal to y, which is having a direct correlaton with y. \n",
        "\n",
        "This might seem very confusing, so let me give a real life example, if i need to predict the price of a house, the number of rooms will not matter if i dont know the number of people who are going to live there. \n",
        "\n",
        "So, if i calculate rooms per person, that will have a better correlation, with the price of the house. \n",
        "\n",
        "Similarly, we have to manipulate the data, so as to make a better correlation."
      ],
      "metadata": {
        "id": "eYnF3YK19yQd"
      }
    },
    {
      "cell_type": "code",
      "source": [
        "data1 = {'X':[-5,-4,-3,-2,-1,0,1,2,3,4,5],\n",
        " 'Y':[49.5, 34.2, 22.3, 13.8,  8.7,  7. ,  8.7, 13.8, 22.3, 34.2, 49.5]}"
      ],
      "metadata": {
        "id": "6vp94vESg_XX"
      },
      "execution_count": null,
      "outputs": []
    },
    {
      "cell_type": "code",
      "source": [
        "df1 = pd.DataFrame(data1)"
      ],
      "metadata": {
        "id": "DA06775AhY_6"
      },
      "execution_count": 364,
      "outputs": []
    },
    {
      "cell_type": "markdown",
      "source": [
        "We prepare a dataset of our own.\n",
        "\n",
        "View the head to gain some insight."
      ],
      "metadata": {
        "id": "5D328WRbERUU"
      }
    },
    {
      "cell_type": "code",
      "source": [
        "df1.head()"
      ],
      "metadata": {
        "id": "pPJXNbRpNkNg",
        "outputId": "e0ec2c22-a640-479b-8910-510387a4b7a8",
        "colab": {
          "base_uri": "https://localhost:8080/",
          "height": 206
        }
      },
      "execution_count": 365,
      "outputs": [
        {
          "output_type": "execute_result",
          "data": {
            "text/html": [
              "\n",
              "  <div id=\"df-120f4c15-1dc1-457e-9c50-9c2e879dda99\">\n",
              "    <div class=\"colab-df-container\">\n",
              "      <div>\n",
              "<style scoped>\n",
              "    .dataframe tbody tr th:only-of-type {\n",
              "        vertical-align: middle;\n",
              "    }\n",
              "\n",
              "    .dataframe tbody tr th {\n",
              "        vertical-align: top;\n",
              "    }\n",
              "\n",
              "    .dataframe thead th {\n",
              "        text-align: right;\n",
              "    }\n",
              "</style>\n",
              "<table border=\"1\" class=\"dataframe\">\n",
              "  <thead>\n",
              "    <tr style=\"text-align: right;\">\n",
              "      <th></th>\n",
              "      <th>x1</th>\n",
              "      <th>x2</th>\n",
              "      <th>x3</th>\n",
              "      <th>Y</th>\n",
              "    </tr>\n",
              "  </thead>\n",
              "  <tbody>\n",
              "    <tr>\n",
              "      <th>0</th>\n",
              "      <td>30</td>\n",
              "      <td>-30.000000</td>\n",
              "      <td>3.908991</td>\n",
              "      <td>1.378555e+14</td>\n",
              "    </tr>\n",
              "    <tr>\n",
              "      <th>1</th>\n",
              "      <td>29</td>\n",
              "      <td>-28.973684</td>\n",
              "      <td>18.402618</td>\n",
              "      <td>5.071421e+13</td>\n",
              "    </tr>\n",
              "    <tr>\n",
              "      <th>2</th>\n",
              "      <td>28</td>\n",
              "      <td>-27.947368</td>\n",
              "      <td>22.617839</td>\n",
              "      <td>1.865672e+13</td>\n",
              "    </tr>\n",
              "    <tr>\n",
              "      <th>3</th>\n",
              "      <td>27</td>\n",
              "      <td>-26.921053</td>\n",
              "      <td>7.953191</td>\n",
              "      <td>6.863422e+12</td>\n",
              "    </tr>\n",
              "    <tr>\n",
              "      <th>4</th>\n",
              "      <td>26</td>\n",
              "      <td>-25.894737</td>\n",
              "      <td>16.550852</td>\n",
              "      <td>2.524912e+12</td>\n",
              "    </tr>\n",
              "  </tbody>\n",
              "</table>\n",
              "</div>\n",
              "      <button class=\"colab-df-convert\" onclick=\"convertToInteractive('df-120f4c15-1dc1-457e-9c50-9c2e879dda99')\"\n",
              "              title=\"Convert this dataframe to an interactive table.\"\n",
              "              style=\"display:none;\">\n",
              "        \n",
              "  <svg xmlns=\"http://www.w3.org/2000/svg\" height=\"24px\"viewBox=\"0 0 24 24\"\n",
              "       width=\"24px\">\n",
              "    <path d=\"M0 0h24v24H0V0z\" fill=\"none\"/>\n",
              "    <path d=\"M18.56 5.44l.94 2.06.94-2.06 2.06-.94-2.06-.94-.94-2.06-.94 2.06-2.06.94zm-11 1L8.5 8.5l.94-2.06 2.06-.94-2.06-.94L8.5 2.5l-.94 2.06-2.06.94zm10 10l.94 2.06.94-2.06 2.06-.94-2.06-.94-.94-2.06-.94 2.06-2.06.94z\"/><path d=\"M17.41 7.96l-1.37-1.37c-.4-.4-.92-.59-1.43-.59-.52 0-1.04.2-1.43.59L10.3 9.45l-7.72 7.72c-.78.78-.78 2.05 0 2.83L4 21.41c.39.39.9.59 1.41.59.51 0 1.02-.2 1.41-.59l7.78-7.78 2.81-2.81c.8-.78.8-2.07 0-2.86zM5.41 20L4 18.59l7.72-7.72 1.47 1.35L5.41 20z\"/>\n",
              "  </svg>\n",
              "      </button>\n",
              "      \n",
              "  <style>\n",
              "    .colab-df-container {\n",
              "      display:flex;\n",
              "      flex-wrap:wrap;\n",
              "      gap: 12px;\n",
              "    }\n",
              "\n",
              "    .colab-df-convert {\n",
              "      background-color: #E8F0FE;\n",
              "      border: none;\n",
              "      border-radius: 50%;\n",
              "      cursor: pointer;\n",
              "      display: none;\n",
              "      fill: #1967D2;\n",
              "      height: 32px;\n",
              "      padding: 0 0 0 0;\n",
              "      width: 32px;\n",
              "    }\n",
              "\n",
              "    .colab-df-convert:hover {\n",
              "      background-color: #E2EBFA;\n",
              "      box-shadow: 0px 1px 2px rgba(60, 64, 67, 0.3), 0px 1px 3px 1px rgba(60, 64, 67, 0.15);\n",
              "      fill: #174EA6;\n",
              "    }\n",
              "\n",
              "    [theme=dark] .colab-df-convert {\n",
              "      background-color: #3B4455;\n",
              "      fill: #D2E3FC;\n",
              "    }\n",
              "\n",
              "    [theme=dark] .colab-df-convert:hover {\n",
              "      background-color: #434B5C;\n",
              "      box-shadow: 0px 1px 3px 1px rgba(0, 0, 0, 0.15);\n",
              "      filter: drop-shadow(0px 1px 2px rgba(0, 0, 0, 0.3));\n",
              "      fill: #FFFFFF;\n",
              "    }\n",
              "  </style>\n",
              "\n",
              "      <script>\n",
              "        const buttonEl =\n",
              "          document.querySelector('#df-120f4c15-1dc1-457e-9c50-9c2e879dda99 button.colab-df-convert');\n",
              "        buttonEl.style.display =\n",
              "          google.colab.kernel.accessAllowed ? 'block' : 'none';\n",
              "\n",
              "        async function convertToInteractive(key) {\n",
              "          const element = document.querySelector('#df-120f4c15-1dc1-457e-9c50-9c2e879dda99');\n",
              "          const dataTable =\n",
              "            await google.colab.kernel.invokeFunction('convertToInteractive',\n",
              "                                                     [key], {});\n",
              "          if (!dataTable) return;\n",
              "\n",
              "          const docLinkHtml = 'Like what you see? Visit the ' +\n",
              "            '<a target=\"_blank\" href=https://colab.research.google.com/notebooks/data_table.ipynb>data table notebook</a>'\n",
              "            + ' to learn more about interactive tables.';\n",
              "          element.innerHTML = '';\n",
              "          dataTable['output_type'] = 'display_data';\n",
              "          await google.colab.output.renderOutput(dataTable, element);\n",
              "          const docLink = document.createElement('div');\n",
              "          docLink.innerHTML = docLinkHtml;\n",
              "          element.appendChild(docLink);\n",
              "        }\n",
              "      </script>\n",
              "    </div>\n",
              "  </div>\n",
              "  "
            ],
            "text/plain": [
              "   x1         x2         x3             Y\n",
              "0  30 -30.000000   3.908991  1.378555e+14\n",
              "1  29 -28.973684  18.402618  5.071421e+13\n",
              "2  28 -27.947368  22.617839  1.865672e+13\n",
              "3  27 -26.921053   7.953191  6.863422e+12\n",
              "4  26 -25.894737  16.550852  2.524912e+12"
            ]
          },
          "metadata": {},
          "execution_count": 365
        }
      ]
    },
    {
      "cell_type": "code",
      "source": [
        ""
      ],
      "metadata": {
        "colab": {
          "base_uri": "https://localhost:8080/",
          "height": 206
        },
        "id": "rdP4UWv_heB8",
        "outputId": "5c180c63-9acc-4a4a-de29-44b15edd53c6"
      },
      "execution_count": null,
      "outputs": [
        {
          "output_type": "execute_result",
          "data": {
            "text/html": [
              "\n",
              "  <div id=\"df-8ba11b6f-6669-4dc3-979d-4a3741ec0200\">\n",
              "    <div class=\"colab-df-container\">\n",
              "      <div>\n",
              "<style scoped>\n",
              "    .dataframe tbody tr th:only-of-type {\n",
              "        vertical-align: middle;\n",
              "    }\n",
              "\n",
              "    .dataframe tbody tr th {\n",
              "        vertical-align: top;\n",
              "    }\n",
              "\n",
              "    .dataframe thead th {\n",
              "        text-align: right;\n",
              "    }\n",
              "</style>\n",
              "<table border=\"1\" class=\"dataframe\">\n",
              "  <thead>\n",
              "    <tr style=\"text-align: right;\">\n",
              "      <th></th>\n",
              "      <th>X</th>\n",
              "      <th>Y</th>\n",
              "    </tr>\n",
              "  </thead>\n",
              "  <tbody>\n",
              "    <tr>\n",
              "      <th>0</th>\n",
              "      <td>-5</td>\n",
              "      <td>49.5</td>\n",
              "    </tr>\n",
              "    <tr>\n",
              "      <th>1</th>\n",
              "      <td>-4</td>\n",
              "      <td>34.2</td>\n",
              "    </tr>\n",
              "    <tr>\n",
              "      <th>2</th>\n",
              "      <td>-3</td>\n",
              "      <td>22.3</td>\n",
              "    </tr>\n",
              "    <tr>\n",
              "      <th>3</th>\n",
              "      <td>-2</td>\n",
              "      <td>13.8</td>\n",
              "    </tr>\n",
              "    <tr>\n",
              "      <th>4</th>\n",
              "      <td>-1</td>\n",
              "      <td>8.7</td>\n",
              "    </tr>\n",
              "  </tbody>\n",
              "</table>\n",
              "</div>\n",
              "      <button class=\"colab-df-convert\" onclick=\"convertToInteractive('df-8ba11b6f-6669-4dc3-979d-4a3741ec0200')\"\n",
              "              title=\"Convert this dataframe to an interactive table.\"\n",
              "              style=\"display:none;\">\n",
              "        \n",
              "  <svg xmlns=\"http://www.w3.org/2000/svg\" height=\"24px\"viewBox=\"0 0 24 24\"\n",
              "       width=\"24px\">\n",
              "    <path d=\"M0 0h24v24H0V0z\" fill=\"none\"/>\n",
              "    <path d=\"M18.56 5.44l.94 2.06.94-2.06 2.06-.94-2.06-.94-.94-2.06-.94 2.06-2.06.94zm-11 1L8.5 8.5l.94-2.06 2.06-.94-2.06-.94L8.5 2.5l-.94 2.06-2.06.94zm10 10l.94 2.06.94-2.06 2.06-.94-2.06-.94-.94-2.06-.94 2.06-2.06.94z\"/><path d=\"M17.41 7.96l-1.37-1.37c-.4-.4-.92-.59-1.43-.59-.52 0-1.04.2-1.43.59L10.3 9.45l-7.72 7.72c-.78.78-.78 2.05 0 2.83L4 21.41c.39.39.9.59 1.41.59.51 0 1.02-.2 1.41-.59l7.78-7.78 2.81-2.81c.8-.78.8-2.07 0-2.86zM5.41 20L4 18.59l7.72-7.72 1.47 1.35L5.41 20z\"/>\n",
              "  </svg>\n",
              "      </button>\n",
              "      \n",
              "  <style>\n",
              "    .colab-df-container {\n",
              "      display:flex;\n",
              "      flex-wrap:wrap;\n",
              "      gap: 12px;\n",
              "    }\n",
              "\n",
              "    .colab-df-convert {\n",
              "      background-color: #E8F0FE;\n",
              "      border: none;\n",
              "      border-radius: 50%;\n",
              "      cursor: pointer;\n",
              "      display: none;\n",
              "      fill: #1967D2;\n",
              "      height: 32px;\n",
              "      padding: 0 0 0 0;\n",
              "      width: 32px;\n",
              "    }\n",
              "\n",
              "    .colab-df-convert:hover {\n",
              "      background-color: #E2EBFA;\n",
              "      box-shadow: 0px 1px 2px rgba(60, 64, 67, 0.3), 0px 1px 3px 1px rgba(60, 64, 67, 0.15);\n",
              "      fill: #174EA6;\n",
              "    }\n",
              "\n",
              "    [theme=dark] .colab-df-convert {\n",
              "      background-color: #3B4455;\n",
              "      fill: #D2E3FC;\n",
              "    }\n",
              "\n",
              "    [theme=dark] .colab-df-convert:hover {\n",
              "      background-color: #434B5C;\n",
              "      box-shadow: 0px 1px 3px 1px rgba(0, 0, 0, 0.15);\n",
              "      filter: drop-shadow(0px 1px 2px rgba(0, 0, 0, 0.3));\n",
              "      fill: #FFFFFF;\n",
              "    }\n",
              "  </style>\n",
              "\n",
              "      <script>\n",
              "        const buttonEl =\n",
              "          document.querySelector('#df-8ba11b6f-6669-4dc3-979d-4a3741ec0200 button.colab-df-convert');\n",
              "        buttonEl.style.display =\n",
              "          google.colab.kernel.accessAllowed ? 'block' : 'none';\n",
              "\n",
              "        async function convertToInteractive(key) {\n",
              "          const element = document.querySelector('#df-8ba11b6f-6669-4dc3-979d-4a3741ec0200');\n",
              "          const dataTable =\n",
              "            await google.colab.kernel.invokeFunction('convertToInteractive',\n",
              "                                                     [key], {});\n",
              "          if (!dataTable) return;\n",
              "\n",
              "          const docLinkHtml = 'Like what you see? Visit the ' +\n",
              "            '<a target=\"_blank\" href=https://colab.research.google.com/notebooks/data_table.ipynb>data table notebook</a>'\n",
              "            + ' to learn more about interactive tables.';\n",
              "          element.innerHTML = '';\n",
              "          dataTable['output_type'] = 'display_data';\n",
              "          await google.colab.output.renderOutput(dataTable, element);\n",
              "          const docLink = document.createElement('div');\n",
              "          docLink.innerHTML = docLinkHtml;\n",
              "          element.appendChild(docLink);\n",
              "        }\n",
              "      </script>\n",
              "    </div>\n",
              "  </div>\n",
              "  "
            ],
            "text/plain": [
              "   X     Y\n",
              "0 -5  49.5\n",
              "1 -4  34.2\n",
              "2 -3  22.3\n",
              "3 -2  13.8\n",
              "4 -1   8.7"
            ]
          },
          "metadata": {},
          "execution_count": 17
        }
      ]
    },
    {
      "cell_type": "markdown",
      "source": [
        "Did not worked, scatter plot x with y axis."
      ],
      "metadata": {
        "id": "VQAw-ReLxRk2"
      }
    },
    {
      "cell_type": "code",
      "source": [
        "plt.scatter(df1['X'], df1['Y'])"
      ],
      "metadata": {
        "id": "xt4qsCF6Nl1b",
        "outputId": "ee83d5d4-8f70-44f2-ca3d-154916ca6d60",
        "colab": {
          "base_uri": "https://localhost:8080/",
          "height": 283
        }
      },
      "execution_count": 366,
      "outputs": [
        {
          "output_type": "execute_result",
          "data": {
            "text/plain": [
              "<matplotlib.collections.PathCollection at 0x7f80161d2510>"
            ]
          },
          "metadata": {},
          "execution_count": 366
        },
        {
          "output_type": "display_data",
          "data": {
            "image/png": "[encoded data removed]",
            "text/plain": [
              "<Figure size 432x288 with 1 Axes>"
            ]
          },
          "metadata": {
            "needs_background": "light"
          }
        }
      ]
    },
    {
      "cell_type": "code",
      "source": [
        ""
      ],
      "metadata": {
        "colab": {
          "base_uri": "https://localhost:8080/",
          "height": 282
        },
        "id": "dQaGPrFcxYG6",
        "outputId": "ab937e55-beb2-425d-eed9-595cfb1808b2"
      },
      "execution_count": null,
      "outputs": [
        {
          "output_type": "execute_result",
          "data": {
            "text/plain": [
              "<matplotlib.collections.PathCollection at 0x7fe4c0850410>"
            ]
          },
          "metadata": {},
          "execution_count": 19
        },
        {
          "output_type": "display_data",
          "data": {
            "image/png": "[encoded data removed]",
            "text/plain": [
              "<Figure size 432x288 with 1 Axes>"
            ]
          },
          "metadata": {
            "needs_background": "light"
          }
        }
      ]
    },
    {
      "cell_type": "markdown",
      "source": [
        "Now u got it we need to add another feature to make LinearRegression recognize this pattern figure out the patterns by looking at the plot and add them."
      ],
      "metadata": {
        "id": "bhXQ8bkoxiyK"
      }
    },
    {
      "cell_type": "code",
      "source": [
        "df1['NewFeature'] = df1['X']*df1['X']"
      ],
      "metadata": {
        "id": "_9cqoPawNoZ4"
      },
      "execution_count": 368,
      "outputs": []
    },
    {
      "cell_type": "markdown",
      "source": [
        "**Split X and Y**"
      ],
      "metadata": {
        "id": "ISVJmGv-N2n6"
      }
    },
    {
      "cell_type": "code",
      "source": [
        "sample_X = df1.drop( ['Y'] , axis = 1)\n",
        "sample_Y = df1['Y']"
      ],
      "metadata": {
        "id": "sznqp10izS23"
      },
      "execution_count": 369,
      "outputs": []
    },
    {
      "cell_type": "markdown",
      "source": [
        "Create LinearRegression object and fit data sample_X and sample_Y"
      ],
      "metadata": {
        "id": "KZk9fIKYzbIP"
      }
    },
    {
      "cell_type": "code",
      "source": [
        "from sklearn.linear_model import LinearRegression\n",
        "\n",
        "lin_reg = LinearRegression()\n",
        "lin_reg.fit(sample_X,sample_Y)"
      ],
      "metadata": {
        "id": "Lhbttm4FzoSm",
        "outputId": "9f7b783e-29a2-4be5-aa9f-f87fc84a3765",
        "colab": {
          "base_uri": "https://localhost:8080/"
        }
      },
      "execution_count": 371,
      "outputs": [
        {
          "output_type": "execute_result",
          "data": {
            "text/plain": [
              "LinearRegression()"
            ]
          },
          "metadata": {},
          "execution_count": 371
        }
      ]
    },
    {
      "cell_type": "code",
      "source": [
        ""
      ],
      "metadata": {
        "id": "wX69b2pjEyu0",
        "colab": {
          "base_uri": "https://localhost:8080/"
        },
        "outputId": "49e6d7b8-81f6-4a54-e5c5-1c839f57fc8c"
      },
      "execution_count": null,
      "outputs": [
        {
          "output_type": "execute_result",
          "data": {
            "text/plain": [
              "LinearRegression()"
            ]
          },
          "metadata": {},
          "execution_count": 24
        }
      ]
    },
    {
      "cell_type": "markdown",
      "source": [
        "**Predict the result**"
      ],
      "metadata": {
        "id": "tDcp03e0OCTL"
      }
    },
    {
      "cell_type": "code",
      "source": [
        "y_pred = lin_reg.predict(sample_X)"
      ],
      "metadata": {
        "id": "q8uYE5Bw0B5q"
      },
      "execution_count": 372,
      "outputs": []
    },
    {
      "cell_type": "markdown",
      "source": [
        "**Plot actual data and predicted data**"
      ],
      "metadata": {
        "id": "M9aQkNz6OHGj"
      }
    },
    {
      "cell_type": "code",
      "source": [
        "plt.scatter(sample_X['X'], sample_Y, label = 'actual')\n",
        "plt.plot(sample_X['X'], y_pred, label = 'predicted', color = 'red')\n",
        "\n",
        "plt.legend()"
      ],
      "metadata": {
        "id": "uzTHCwJTOLDI",
        "outputId": "b127f909-0e7e-4999-ed13-79a3736fac44",
        "colab": {
          "base_uri": "https://localhost:8080/",
          "height": 283
        }
      },
      "execution_count": 374,
      "outputs": [
        {
          "output_type": "execute_result",
          "data": {
            "text/plain": [
              "<matplotlib.legend.Legend at 0x7f8015bdb7d0>"
            ]
          },
          "metadata": {},
          "execution_count": 374
        },
        {
          "output_type": "display_data",
          "data": {
            "image/png": "[encoded data removed]",
            "text/plain": [
              "<Figure size 432x288 with 1 Axes>"
            ]
          },
          "metadata": {
            "needs_background": "light"
          }
        }
      ]
    },
    {
      "cell_type": "code",
      "source": [
        ""
      ],
      "metadata": {
        "colab": {
          "base_uri": "https://localhost:8080/",
          "height": 282
        },
        "id": "Tcp72OvCz3Nh",
        "outputId": "aeceeeba-fb0c-4084-e231-2aecf0986e7b"
      },
      "execution_count": null,
      "outputs": [
        {
          "output_type": "execute_result",
          "data": {
            "text/plain": [
              "<matplotlib.legend.Legend at 0x7fe4ae8b1090>"
            ]
          },
          "metadata": {},
          "execution_count": 29
        },
        {
          "output_type": "display_data",
          "data": {
            "image/png": "[encoded data removed]",
            "text/plain": [
              "<Figure size 432x288 with 1 Axes>"
            ]
          },
          "metadata": {
            "needs_background": "light"
          }
        }
      ]
    },
    {
      "cell_type": "markdown",
      "source": [
        "**WOW u made it, Hurray!!!**\n",
        "\n",
        "Here's another one, Have Fun solving it :)"
      ],
      "metadata": {
        "id": "wiC3jADn67AN"
      }
    },
    {
      "cell_type": "code",
      "source": [
        "data3 = {'X':[-5. , -4. , -3. , -2. , -1. ,0. ,  1. ,  2. ,  2.33333333,  2.66666667,3. ,  3.33333333,  3.66666667,  4. ,  4.33333333,4.66666667,  5. ,  5. ,  6. ,  7. ,8. ,  9. , 10. , 11. , 12.,13.],\n",
        "         'Y': [-1.07984907e+02, -1.07958973e+02, -1.07888477e+02, -1.07696849e+02,-1.07175950e+02, -1.05760000e+02, -1.01911049e+02, -9.14485143e+01,-8.49005410e+01, -7.57621078e+01, -6.30083973e+01, -4.52091604e+01,-2.03683236e+01,  1.42998561e+01,  6.26831982e+01,  1.30207594e+02, 2.24445476e+02,  2.24445476e+02,  7.95680497e+02,  2.34845827e+03, 6.56934589e+03,  1.80429080e+04,  4.92312834e+04,  1.34010077e+05, 3.64462733e+05,  9.90897998e+05]}\n",
        "\n",
        "df3 = pd.DataFrame(data3)"
      ],
      "metadata": {
        "id": "1EvWPrmP7UDA"
      },
      "execution_count": 375,
      "outputs": []
    },
    {
      "cell_type": "code",
      "source": [
        "df3.head()"
      ],
      "metadata": {
        "colab": {
          "base_uri": "https://localhost:8080/",
          "height": 206
        },
        "id": "Bsg7-n1v82yr",
        "outputId": "0c892bc5-7bc4-435b-c629-33c151eeeb01"
      },
      "execution_count": 376,
      "outputs": [
        {
          "output_type": "execute_result",
          "data": {
            "text/html": [
              "\n",
              "  <div id=\"df-7bd5d4da-9b47-44d5-9228-ba34c46a2c30\">\n",
              "    <div class=\"colab-df-container\">\n",
              "      <div>\n",
              "<style scoped>\n",
              "    .dataframe tbody tr th:only-of-type {\n",
              "        vertical-align: middle;\n",
              "    }\n",
              "\n",
              "    .dataframe tbody tr th {\n",
              "        vertical-align: top;\n",
              "    }\n",
              "\n",
              "    .dataframe thead th {\n",
              "        text-align: right;\n",
              "    }\n",
              "</style>\n",
              "<table border=\"1\" class=\"dataframe\">\n",
              "  <thead>\n",
              "    <tr style=\"text-align: right;\">\n",
              "      <th></th>\n",
              "      <th>X</th>\n",
              "      <th>Y</th>\n",
              "    </tr>\n",
              "  </thead>\n",
              "  <tbody>\n",
              "    <tr>\n",
              "      <th>0</th>\n",
              "      <td>-5.0</td>\n",
              "      <td>-107.984907</td>\n",
              "    </tr>\n",
              "    <tr>\n",
              "      <th>1</th>\n",
              "      <td>-4.0</td>\n",
              "      <td>-107.958973</td>\n",
              "    </tr>\n",
              "    <tr>\n",
              "      <th>2</th>\n",
              "      <td>-3.0</td>\n",
              "      <td>-107.888477</td>\n",
              "    </tr>\n",
              "    <tr>\n",
              "      <th>3</th>\n",
              "      <td>-2.0</td>\n",
              "      <td>-107.696849</td>\n",
              "    </tr>\n",
              "    <tr>\n",
              "      <th>4</th>\n",
              "      <td>-1.0</td>\n",
              "      <td>-107.175950</td>\n",
              "    </tr>\n",
              "  </tbody>\n",
              "</table>\n",
              "</div>\n",
              "      <button class=\"colab-df-convert\" onclick=\"convertToInteractive('df-7bd5d4da-9b47-44d5-9228-ba34c46a2c30')\"\n",
              "              title=\"Convert this dataframe to an interactive table.\"\n",
              "              style=\"display:none;\">\n",
              "        \n",
              "  <svg xmlns=\"http://www.w3.org/2000/svg\" height=\"24px\"viewBox=\"0 0 24 24\"\n",
              "       width=\"24px\">\n",
              "    <path d=\"M0 0h24v24H0V0z\" fill=\"none\"/>\n",
              "    <path d=\"M18.56 5.44l.94 2.06.94-2.06 2.06-.94-2.06-.94-.94-2.06-.94 2.06-2.06.94zm-11 1L8.5 8.5l.94-2.06 2.06-.94-2.06-.94L8.5 2.5l-.94 2.06-2.06.94zm10 10l.94 2.06.94-2.06 2.06-.94-2.06-.94-.94-2.06-.94 2.06-2.06.94z\"/><path d=\"M17.41 7.96l-1.37-1.37c-.4-.4-.92-.59-1.43-.59-.52 0-1.04.2-1.43.59L10.3 9.45l-7.72 7.72c-.78.78-.78 2.05 0 2.83L4 21.41c.39.39.9.59 1.41.59.51 0 1.02-.2 1.41-.59l7.78-7.78 2.81-2.81c.8-.78.8-2.07 0-2.86zM5.41 20L4 18.59l7.72-7.72 1.47 1.35L5.41 20z\"/>\n",
              "  </svg>\n",
              "      </button>\n",
              "      \n",
              "  <style>\n",
              "    .colab-df-container {\n",
              "      display:flex;\n",
              "      flex-wrap:wrap;\n",
              "      gap: 12px;\n",
              "    }\n",
              "\n",
              "    .colab-df-convert {\n",
              "      background-color: #E8F0FE;\n",
              "      border: none;\n",
              "      border-radius: 50%;\n",
              "      cursor: pointer;\n",
              "      display: none;\n",
              "      fill: #1967D2;\n",
              "      height: 32px;\n",
              "      padding: 0 0 0 0;\n",
              "      width: 32px;\n",
              "    }\n",
              "\n",
              "    .colab-df-convert:hover {\n",
              "      background-color: #E2EBFA;\n",
              "      box-shadow: 0px 1px 2px rgba(60, 64, 67, 0.3), 0px 1px 3px 1px rgba(60, 64, 67, 0.15);\n",
              "      fill: #174EA6;\n",
              "    }\n",
              "\n",
              "    [theme=dark] .colab-df-convert {\n",
              "      background-color: #3B4455;\n",
              "      fill: #D2E3FC;\n",
              "    }\n",
              "\n",
              "    [theme=dark] .colab-df-convert:hover {\n",
              "      background-color: #434B5C;\n",
              "      box-shadow: 0px 1px 3px 1px rgba(0, 0, 0, 0.15);\n",
              "      filter: drop-shadow(0px 1px 2px rgba(0, 0, 0, 0.3));\n",
              "      fill: #FFFFFF;\n",
              "    }\n",
              "  </style>\n",
              "\n",
              "      <script>\n",
              "        const buttonEl =\n",
              "          document.querySelector('#df-7bd5d4da-9b47-44d5-9228-ba34c46a2c30 button.colab-df-convert');\n",
              "        buttonEl.style.display =\n",
              "          google.colab.kernel.accessAllowed ? 'block' : 'none';\n",
              "\n",
              "        async function convertToInteractive(key) {\n",
              "          const element = document.querySelector('#df-7bd5d4da-9b47-44d5-9228-ba34c46a2c30');\n",
              "          const dataTable =\n",
              "            await google.colab.kernel.invokeFunction('convertToInteractive',\n",
              "                                                     [key], {});\n",
              "          if (!dataTable) return;\n",
              "\n",
              "          const docLinkHtml = 'Like what you see? Visit the ' +\n",
              "            '<a target=\"_blank\" href=https://colab.research.google.com/notebooks/data_table.ipynb>data table notebook</a>'\n",
              "            + ' to learn more about interactive tables.';\n",
              "          element.innerHTML = '';\n",
              "          dataTable['output_type'] = 'display_data';\n",
              "          await google.colab.output.renderOutput(dataTable, element);\n",
              "          const docLink = document.createElement('div');\n",
              "          docLink.innerHTML = docLinkHtml;\n",
              "          element.appendChild(docLink);\n",
              "        }\n",
              "      </script>\n",
              "    </div>\n",
              "  </div>\n",
              "  "
            ],
            "text/plain": [
              "     X           Y\n",
              "0 -5.0 -107.984907\n",
              "1 -4.0 -107.958973\n",
              "2 -3.0 -107.888477\n",
              "3 -2.0 -107.696849\n",
              "4 -1.0 -107.175950"
            ]
          },
          "metadata": {},
          "execution_count": 376
        }
      ]
    },
    {
      "cell_type": "markdown",
      "source": [
        "plot the data then add new necessary features"
      ],
      "metadata": {
        "id": "NkQ8UU6s7UDD"
      }
    },
    {
      "cell_type": "code",
      "source": [
        "plt.plot(df3['X'],df3['Y'])"
      ],
      "metadata": {
        "id": "hUqq14LI-WYE",
        "outputId": "9d2d7828-bf18-46a7-9f1e-63ac62349420",
        "colab": {
          "base_uri": "https://localhost:8080/",
          "height": 294
        }
      },
      "execution_count": 378,
      "outputs": [
        {
          "output_type": "execute_result",
          "data": {
            "text/plain": [
              "[<matplotlib.lines.Line2D at 0x7f8015079d50>]"
            ]
          },
          "metadata": {},
          "execution_count": 378
        },
        {
          "output_type": "display_data",
          "data": {
            "image/png": "[encoded data removed]",
            "text/plain": [
              "<Figure size 432x288 with 1 Axes>"
            ]
          },
          "metadata": {
            "needs_background": "light"
          }
        }
      ]
    },
    {
      "cell_type": "code",
      "source": [
        ""
      ],
      "metadata": {
        "colab": {
          "base_uri": "https://localhost:8080/",
          "height": 290
        },
        "id": "Y5jVZ8DX9HGZ",
        "outputId": "b1d41372-6291-41e6-92da-4ac947c0eb84"
      },
      "execution_count": null,
      "outputs": [
        {
          "output_type": "display_data",
          "data": {
            "image/png": "[encoded data removed]",
            "text/plain": [
              "<Figure size 432x288 with 1 Axes>"
            ]
          },
          "metadata": {
            "needs_background": "light"
          }
        }
      ]
    },
    {
      "cell_type": "markdown",
      "source": [
        "**add new necessary feature's**"
      ],
      "metadata": {
        "id": "r1To5Mdn-ofH"
      }
    },
    {
      "cell_type": "code",
      "source": [
        "df3['NewFeature'] = pow(3,df3['X'])"
      ],
      "metadata": {
        "id": "oYpDIhtB7UDI"
      },
      "execution_count": 379,
      "outputs": []
    },
    {
      "cell_type": "markdown",
      "source": [
        "prepare X and Y for training."
      ],
      "metadata": {
        "id": "kQvyxcdX-uCo"
      }
    },
    {
      "cell_type": "code",
      "source": [
        "X = df3.drop(['Y'],axis=1)\n",
        "y = df3['Y']"
      ],
      "metadata": {
        "id": "0ys5VKT17UDJ"
      },
      "execution_count": 380,
      "outputs": []
    },
    {
      "cell_type": "markdown",
      "source": [
        "**Fit and predict**"
      ],
      "metadata": {
        "id": "e276B95DHI37"
      }
    },
    {
      "cell_type": "code",
      "source": [
        "lin_reg.fit(X,y)\n",
        "y_pred = lin_reg.predict(X)"
      ],
      "metadata": {
        "id": "TcOXOgL07UDL"
      },
      "execution_count": 384,
      "outputs": []
    },
    {
      "cell_type": "markdown",
      "source": [
        "**Plot IT**\n",
        "\n",
        "If u did not get the same result in plot try adding different NewFeature"
      ],
      "metadata": {
        "id": "RZZrF6gcHLcp"
      }
    },
    {
      "cell_type": "code",
      "source": [
        "plt.scatter(X['X'], y,label=\"actual\")\n",
        "plt.plot( X['X'], y_pred, label=\"predict\", color = 'red')\n",
        "\n",
        "plt.legend()\n",
        "plt.show()"
      ],
      "metadata": {
        "id": "k7aJiM5jOs_s",
        "outputId": "0b88be84-c6cf-4b5f-b126-cfc5eb6a7c62",
        "colab": {
          "base_uri": "https://localhost:8080/",
          "height": 276
        }
      },
      "execution_count": 385,
      "outputs": [
        {
          "output_type": "display_data",
          "data": {
            "image/png": "[encoded data removed]",
            "text/plain": [
              "<Figure size 432x288 with 1 Axes>"
            ]
          },
          "metadata": {
            "needs_background": "light"
          }
        }
      ]
    },
    {
      "cell_type": "code",
      "source": [
        ""
      ],
      "metadata": {
        "colab": {
          "base_uri": "https://localhost:8080/",
          "height": 276
        },
        "outputId": "700fd63a-3169-4b60-d74d-628f8756808a",
        "id": "8EO8KZul7UDM"
      },
      "execution_count": null,
      "outputs": [
        {
          "output_type": "display_data",
          "data": {
            "image/png": "[encoded data removed]",
            "text/plain": [
              "<Figure size 432x288 with 1 Axes>"
            ]
          },
          "metadata": {
            "needs_background": "light"
          }
        }
      ]
    },
    {
      "cell_type": "markdown",
      "source": [
        "**Great Job You did it**\n",
        "\n",
        "it's time to see a new problem"
      ],
      "metadata": {
        "id": "zvvyRVlzvsPJ"
      }
    },
    {
      "cell_type": "code",
      "source": [
        "data5 = {'X' : [-180, -160, -140, -120, -100,  -80,  -60,  -40,  -20,    0,   20,40,   60,   80,  100,  120,  140,  160],\n",
        "         'Y' : [-1.22464680e-16, -3.42020143e-01, -6.42787610e-01, -8.66025404e-01,       -9.84807753e-01, -9.84807753e-01, -8.66025404e-01, -6.42787610e-01,       -3.42020143e-01,  0.00000000e+00,  3.42020143e-01,  6.42787610e-01,        8.66025404e-01,  9.84807753e-01,  9.84807753e-01,  8.66025404e-01, 6.42787610e-01,  3.42020143e-01]   }\n",
        "df4 = pd.DataFrame(data5)"
      ],
      "metadata": {
        "id": "Y-DaatIwvygp"
      },
      "execution_count": null,
      "outputs": []
    },
    {
      "cell_type": "code",
      "source": [
        "df4"
      ],
      "metadata": {
        "id": "K1b48DS1wDd2"
      },
      "execution_count": null,
      "outputs": []
    },
    {
      "cell_type": "markdown",
      "source": [
        "plot the data and then add the new necessary feature"
      ],
      "metadata": {
        "id": "AyrM1l73wJ_B"
      }
    },
    {
      "cell_type": "code",
      "source": [
        "plt.scatter(df4['X'], df4['Y'])"
      ],
      "metadata": {
        "id": "j_muRC9PwTY3",
        "outputId": "3bfd3878-28d9-4670-fd2d-ecc0160609ee",
        "colab": {
          "base_uri": "https://localhost:8080/",
          "height": 283
        }
      },
      "execution_count": 386,
      "outputs": [
        {
          "output_type": "execute_result",
          "data": {
            "text/plain": [
              "<matplotlib.collections.PathCollection at 0x7f80150ec490>"
            ]
          },
          "metadata": {},
          "execution_count": 386
        },
        {
          "output_type": "display_data",
          "data": {
            "image/png": "[encoded data removed]",
            "text/plain": [
              "<Figure size 432x288 with 1 Axes>"
            ]
          },
          "metadata": {
            "needs_background": "light"
          }
        }
      ]
    },
    {
      "cell_type": "code",
      "source": [
        ""
      ],
      "metadata": {
        "colab": {
          "base_uri": "https://localhost:8080/",
          "height": 283
        },
        "id": "WS78uQsOwK1m",
        "outputId": "b657b982-ea2a-4034-8198-ee7a902698fc"
      },
      "execution_count": null,
      "outputs": [
        {
          "output_type": "execute_result",
          "data": {
            "text/plain": [
              "<matplotlib.collections.PathCollection at 0x7f71c9028550>"
            ]
          },
          "metadata": {},
          "execution_count": 5
        },
        {
          "output_type": "display_data",
          "data": {
            "image/png": "[encoded data removed]",
            "text/plain": [
              "<Figure size 432x288 with 1 Axes>"
            ]
          },
          "metadata": {
            "needs_background": "light"
          }
        }
      ]
    },
    {
      "cell_type": "code",
      "source": [
        "df4['NewFeature'] = np.sin(np.radians(df4['X']))"
      ],
      "metadata": {
        "id": "gOiE_syKwZDo"
      },
      "execution_count": 388,
      "outputs": []
    },
    {
      "cell_type": "markdown",
      "source": [
        "prepare X and Y for training"
      ],
      "metadata": {
        "id": "cck1kGljw2EB"
      }
    },
    {
      "cell_type": "code",
      "source": [
        "x = df4.drop(['Y'],axis=1)\n",
        "y = df4['Y']"
      ],
      "metadata": {
        "id": "qyXsGhyiwsdK"
      },
      "execution_count": 389,
      "outputs": []
    },
    {
      "cell_type": "markdown",
      "source": [
        "fit and predict"
      ],
      "metadata": {
        "id": "UnQFX-7qxEZR"
      }
    },
    {
      "cell_type": "code",
      "source": [
        "from sklearn.linear_model import LinearRegression\n",
        "\n",
        "lin_reg = LinearRegression()"
      ],
      "metadata": {
        "id": "m6QCAuL0xYln"
      },
      "execution_count": 390,
      "outputs": []
    },
    {
      "cell_type": "code",
      "source": [
        "lin_reg.fit(x,y)\n",
        "y_pred = lin_reg.predict(x)"
      ],
      "metadata": {
        "id": "dYjxpntzwZAj"
      },
      "execution_count": 392,
      "outputs": []
    },
    {
      "cell_type": "markdown",
      "source": [
        "plot\n",
        "\n",
        "If u did not get the same result in plot try adding different NewFeature"
      ],
      "metadata": {
        "id": "StfhMzHRxhBK"
      }
    },
    {
      "cell_type": "code",
      "source": [
        "plt.scatter(x['X'], y, label=\"actual\")\n",
        "plt.plot(x['X'],y_pred,label=\"predict\")\n",
        "\n",
        "plt.legend()\n",
        "plt.show()"
      ],
      "metadata": {
        "id": "7-rlPdBux35C",
        "outputId": "7f731543-d2d1-4104-fbf0-28b83387dab0",
        "colab": {
          "base_uri": "https://localhost:8080/",
          "height": 265
        }
      },
      "execution_count": 395,
      "outputs": [
        {
          "output_type": "display_data",
          "data": {
            "image/png": "[encoded data removed]",
            "text/plain": [
              "<Figure size 432x288 with 1 Axes>"
            ]
          },
          "metadata": {
            "needs_background": "light"
          }
        }
      ]
    },
    {
      "cell_type": "code",
      "source": [
        ""
      ],
      "metadata": {
        "colab": {
          "base_uri": "https://localhost:8080/",
          "height": 264
        },
        "id": "xG3TYthvxiRB",
        "outputId": "55962151-26c7-4252-bdde-a8b76a504133"
      },
      "execution_count": null,
      "outputs": [
        {
          "output_type": "display_data",
          "data": {
            "image/png": "[encoded data removed]",
            "text/plain": [
              "<Figure size 432x288 with 1 Axes>"
            ]
          },
          "metadata": {
            "needs_background": "light"
          }
        }
      ]
    },
    {
      "cell_type": "markdown",
      "source": [
        "**Now Some tricky things**\n",
        "\n",
        "Try as many possible features to get better accuracy"
      ],
      "metadata": {
        "id": "UzdKT1oo_COM"
      }
    },
    {
      "cell_type": "code",
      "source": [
        "df = pd.read_csv('https://raw.githubusercontent.com/aman5898/Pepcoding-Data-Science/main/dataset/data3.csv')\n",
        "df.drop(['Unnamed: 0'], axis = 1, inplace = True)\n",
        "df.sample(7)"
      ],
      "metadata": {
        "colab": {
          "base_uri": "https://localhost:8080/",
          "height": 269
        },
        "id": "1N9VpP_AJczq",
        "outputId": "26ce281f-68d2-4084-95d6-fd733b796862"
      },
      "execution_count": 396,
      "outputs": [
        {
          "output_type": "execute_result",
          "data": {
            "text/html": [
              "\n",
              "  <div id=\"df-54a3b531-953b-415d-8923-f667adc41828\">\n",
              "    <div class=\"colab-df-container\">\n",
              "      <div>\n",
              "<style scoped>\n",
              "    .dataframe tbody tr th:only-of-type {\n",
              "        vertical-align: middle;\n",
              "    }\n",
              "\n",
              "    .dataframe tbody tr th {\n",
              "        vertical-align: top;\n",
              "    }\n",
              "\n",
              "    .dataframe thead th {\n",
              "        text-align: right;\n",
              "    }\n",
              "</style>\n",
              "<table border=\"1\" class=\"dataframe\">\n",
              "  <thead>\n",
              "    <tr style=\"text-align: right;\">\n",
              "      <th></th>\n",
              "      <th>x1</th>\n",
              "      <th>x2</th>\n",
              "      <th>x3</th>\n",
              "      <th>Y</th>\n",
              "    </tr>\n",
              "  </thead>\n",
              "  <tbody>\n",
              "    <tr>\n",
              "      <th>14</th>\n",
              "      <td>16</td>\n",
              "      <td>-15.631579</td>\n",
              "      <td>25.160410</td>\n",
              "      <td>1.147933e+08</td>\n",
              "    </tr>\n",
              "    <tr>\n",
              "      <th>12</th>\n",
              "      <td>18</td>\n",
              "      <td>-17.684211</td>\n",
              "      <td>12.222015</td>\n",
              "      <td>8.469914e+08</td>\n",
              "    </tr>\n",
              "    <tr>\n",
              "      <th>17</th>\n",
              "      <td>13</td>\n",
              "      <td>-12.552632</td>\n",
              "      <td>10.835468</td>\n",
              "      <td>5.699863e+06</td>\n",
              "    </tr>\n",
              "    <tr>\n",
              "      <th>33</th>\n",
              "      <td>-3</td>\n",
              "      <td>3.868421</td>\n",
              "      <td>25.661858</td>\n",
              "      <td>2.047412e+05</td>\n",
              "    </tr>\n",
              "    <tr>\n",
              "      <th>0</th>\n",
              "      <td>30</td>\n",
              "      <td>-30.000000</td>\n",
              "      <td>3.908991</td>\n",
              "      <td>1.378555e+14</td>\n",
              "    </tr>\n",
              "    <tr>\n",
              "      <th>37</th>\n",
              "      <td>-7</td>\n",
              "      <td>7.973684</td>\n",
              "      <td>21.152997</td>\n",
              "      <td>1.085535e+05</td>\n",
              "    </tr>\n",
              "    <tr>\n",
              "      <th>20</th>\n",
              "      <td>10</td>\n",
              "      <td>-9.473684</td>\n",
              "      <td>17.606140</td>\n",
              "      <td>3.386934e+05</td>\n",
              "    </tr>\n",
              "  </tbody>\n",
              "</table>\n",
              "</div>\n",
              "      <button class=\"colab-df-convert\" onclick=\"convertToInteractive('df-54a3b531-953b-415d-8923-f667adc41828')\"\n",
              "              title=\"Convert this dataframe to an interactive table.\"\n",
              "              style=\"display:none;\">\n",
              "        \n",
              "  <svg xmlns=\"http://www.w3.org/2000/svg\" height=\"24px\"viewBox=\"0 0 24 24\"\n",
              "       width=\"24px\">\n",
              "    <path d=\"M0 0h24v24H0V0z\" fill=\"none\"/>\n",
              "    <path d=\"M18.56 5.44l.94 2.06.94-2.06 2.06-.94-2.06-.94-.94-2.06-.94 2.06-2.06.94zm-11 1L8.5 8.5l.94-2.06 2.06-.94-2.06-.94L8.5 2.5l-.94 2.06-2.06.94zm10 10l.94 2.06.94-2.06 2.06-.94-2.06-.94-.94-2.06-.94 2.06-2.06.94z\"/><path d=\"M17.41 7.96l-1.37-1.37c-.4-.4-.92-.59-1.43-.59-.52 0-1.04.2-1.43.59L10.3 9.45l-7.72 7.72c-.78.78-.78 2.05 0 2.83L4 21.41c.39.39.9.59 1.41.59.51 0 1.02-.2 1.41-.59l7.78-7.78 2.81-2.81c.8-.78.8-2.07 0-2.86zM5.41 20L4 18.59l7.72-7.72 1.47 1.35L5.41 20z\"/>\n",
              "  </svg>\n",
              "      </button>\n",
              "      \n",
              "  <style>\n",
              "    .colab-df-container {\n",
              "      display:flex;\n",
              "      flex-wrap:wrap;\n",
              "      gap: 12px;\n",
              "    }\n",
              "\n",
              "    .colab-df-convert {\n",
              "      background-color: #E8F0FE;\n",
              "      border: none;\n",
              "      border-radius: 50%;\n",
              "      cursor: pointer;\n",
              "      display: none;\n",
              "      fill: #1967D2;\n",
              "      height: 32px;\n",
              "      padding: 0 0 0 0;\n",
              "      width: 32px;\n",
              "    }\n",
              "\n",
              "    .colab-df-convert:hover {\n",
              "      background-color: #E2EBFA;\n",
              "      box-shadow: 0px 1px 2px rgba(60, 64, 67, 0.3), 0px 1px 3px 1px rgba(60, 64, 67, 0.15);\n",
              "      fill: #174EA6;\n",
              "    }\n",
              "\n",
              "    [theme=dark] .colab-df-convert {\n",
              "      background-color: #3B4455;\n",
              "      fill: #D2E3FC;\n",
              "    }\n",
              "\n",
              "    [theme=dark] .colab-df-convert:hover {\n",
              "      background-color: #434B5C;\n",
              "      box-shadow: 0px 1px 3px 1px rgba(0, 0, 0, 0.15);\n",
              "      filter: drop-shadow(0px 1px 2px rgba(0, 0, 0, 0.3));\n",
              "      fill: #FFFFFF;\n",
              "    }\n",
              "  </style>\n",
              "\n",
              "      <script>\n",
              "        const buttonEl =\n",
              "          document.querySelector('#df-54a3b531-953b-415d-8923-f667adc41828 button.colab-df-convert');\n",
              "        buttonEl.style.display =\n",
              "          google.colab.kernel.accessAllowed ? 'block' : 'none';\n",
              "\n",
              "        async function convertToInteractive(key) {\n",
              "          const element = document.querySelector('#df-54a3b531-953b-415d-8923-f667adc41828');\n",
              "          const dataTable =\n",
              "            await google.colab.kernel.invokeFunction('convertToInteractive',\n",
              "                                                     [key], {});\n",
              "          if (!dataTable) return;\n",
              "\n",
              "          const docLinkHtml = 'Like what you see? Visit the ' +\n",
              "            '<a target=\"_blank\" href=https://colab.research.google.com/notebooks/data_table.ipynb>data table notebook</a>'\n",
              "            + ' to learn more about interactive tables.';\n",
              "          element.innerHTML = '';\n",
              "          dataTable['output_type'] = 'display_data';\n",
              "          await google.colab.output.renderOutput(dataTable, element);\n",
              "          const docLink = document.createElement('div');\n",
              "          docLink.innerHTML = docLinkHtml;\n",
              "          element.appendChild(docLink);\n",
              "        }\n",
              "      </script>\n",
              "    </div>\n",
              "  </div>\n",
              "  "
            ],
            "text/plain": [
              "    x1         x2         x3             Y\n",
              "14  16 -15.631579  25.160410  1.147933e+08\n",
              "12  18 -17.684211  12.222015  8.469914e+08\n",
              "17  13 -12.552632  10.835468  5.699863e+06\n",
              "33  -3   3.868421  25.661858  2.047412e+05\n",
              "0   30 -30.000000   3.908991  1.378555e+14\n",
              "37  -7   7.973684  21.152997  1.085535e+05\n",
              "20  10  -9.473684  17.606140  3.386934e+05"
            ]
          },
          "metadata": {},
          "execution_count": 396
        }
      ]
    },
    {
      "cell_type": "code",
      "source": [
        "import plotly.express as px\n",
        "\n",
        "px.scatter_3d(df, x = 'x1', y = 'x2', z = 'x3')"
      ],
      "metadata": {
        "colab": {
          "base_uri": "https://localhost:8080/",
          "height": 542
        },
        "id": "wBbFdPet_tao",
        "outputId": "189aef0c-d310-49ea-c06e-64a145cd282f"
      },
      "execution_count": 397,
      "outputs": [
        {
          "output_type": "display_data",
          "data": {
            "text/html": [
              "<html>\n",
              "<head><meta charset=\"utf-8\" /></head>\n",
              "<body>\n",
              "    <div>\n",
              "            <script src=\"https://cdnjs.cloudflare.com/ajax/libs/mathjax/2.7.5/MathJax.js?config=TeX-AMS-MML_SVG\"></script><script type=\"text/javascript\">if (window.MathJax) {MathJax.Hub.Config({SVG: {font: \"STIX-Web\"}});}</script>\n",
              "                <script type=\"text/javascript\">window.PlotlyConfig = {MathJaxConfig: 'local'};</script>\n",
              "        <script src=\"https://cdn.plot.ly/plotly-latest.min.js\"></script>    \n",
              "            <div id=\"098cfd1a-b9ef-4602-83e9-3e814c6d7ec9\" class=\"plotly-graph-div\" style=\"height:525px; width:100%;\"></div>\n",
              "            <script type=\"text/javascript\">\n",
              "                \n",
              "                    window.PLOTLYENV=window.PLOTLYENV || {};\n",
              "                    \n",
              "                if (document.getElementById(\"098cfd1a-b9ef-4602-83e9-3e814c6d7ec9\")) {\n",
              "                    Plotly.newPlot(\n",
              "                        '098cfd1a-b9ef-4602-83e9-3e814c6d7ec9',\n",
              "                        [{\"hoverlabel\": {\"namelength\": 0}, \"hovertemplate\": \"x1=%{x}<br>x2=%{y}<br>x3=%{z}\", \"legendgroup\": \"\", \"marker\": {\"color\": \"#636efa\", \"symbol\": \"circle\"}, \"mode\": \"markers\", \"name\": \"\", \"scene\": \"scene\", \"showlegend\": false, \"type\": \"scatter3d\", \"x\": [30, 29, 28, 27, 26, 25, 24, 23, 22, 21, 20, 19, 18, 17, 16, 15, 14, 13, 12, 11, 10, 9, 8, 7, 6, 5, 4, 3, 2, 1, 0, -1, -2, -3, -4, -5, -6, -7, -8], \"y\": [-30.0, -28.97368421052632, -27.947368421052627, -26.921052631578945, -25.894736842105264, -24.86842105263158, -23.842105263157894, -22.815789473684212, -21.78947368421053, -20.763157894736842, -19.736842105263158, -18.710526315789476, -17.684210526315788, -16.657894736842106, -15.63157894736842, -14.605263157894735, -13.578947368421053, -12.552631578947365, -11.52631578947368, -10.5, -9.473684210526317, -8.44736842105263, -7.421052631578945, -6.39473684210526, -5.368421052631575, -4.342105263157894, -3.315789473684209, -2.289473684210524, -1.2631578947368391, -0.236842105263154, 0.7894736842105274, 1.8157894736842124, 2.8421052631578974, 3.8684210526315823, 4.894736842105266, 5.921052631578952, 6.947368421052637, 7.973684210526322, 9.0], \"z\": [3.9089914340030436, 18.402618459755107, 22.617838995710606, 7.953190915471815, 16.550851994661382, 6.509888592230589, 7.114551419852015, 18.729798880403305, 26.051253956464897, 6.75529371530053, 21.64750697712372, 24.4406425099113, 12.222014654468506, 5.4146547304711445, 25.160410245129214, 28.55142337177258, 18.5600229290016, 10.835467643475363, 2.409582397792187, 28.09551153448832, 17.606139953535713, 26.38205470469029, 0.9828865741960358, 29.21680314499671, 0.4942558355935322, 7.182598038430449, 2.062233372527935, 26.411230694691085, 10.638900721043518, 25.58902631237203, 23.484454612470714, 16.936435149407178, 2.1939179901301933, 25.661858168301748, 18.55212430499003, 14.286566175494892, 11.623951909234126, 21.152997006496502, 4.489689498968782]}],\n",
              "                        {\"legend\": {\"tracegroupgap\": 0}, \"margin\": {\"t\": 60}, \"scene\": {\"domain\": {\"x\": [0.0, 1.0], \"y\": [0.0, 1.0]}, \"xaxis\": {\"title\": {\"text\": \"x1\"}}, \"yaxis\": {\"title\": {\"text\": \"x2\"}}, \"zaxis\": {\"title\": {\"text\": \"x3\"}}}, \"template\": {\"data\": {\"bar\": [{\"error_x\": {\"color\": \"#2a3f5f\"}, \"error_y\": {\"color\": \"#2a3f5f\"}, \"marker\": {\"line\": {\"color\": \"#E5ECF6\", \"width\": 0.5}}, \"type\": \"bar\"}], \"barpolar\": [{\"marker\": {\"line\": {\"color\": \"#E5ECF6\", \"width\": 0.5}}, \"type\": \"barpolar\"}], \"carpet\": [{\"aaxis\": {\"endlinecolor\": \"#2a3f5f\", \"gridcolor\": \"white\", \"linecolor\": \"white\", \"minorgridcolor\": \"white\", \"startlinecolor\": \"#2a3f5f\"}, \"baxis\": {\"endlinecolor\": \"#2a3f5f\", \"gridcolor\": \"white\", \"linecolor\": \"white\", \"minorgridcolor\": \"white\", \"startlinecolor\": \"#2a3f5f\"}, \"type\": \"carpet\"}], \"choropleth\": [{\"colorbar\": {\"outlinewidth\": 0, \"ticks\": \"\"}, \"type\": \"choropleth\"}], \"contour\": [{\"colorbar\": {\"outlinewidth\": 0, \"ticks\": \"\"}, \"colorscale\": [[0.0, \"#0d0887\"], [0.1111111111111111, \"#46039f\"], [0.2222222222222222, \"#7201a8\"], [0.3333333333333333, \"#9c179e\"], [0.4444444444444444, \"#bd3786\"], [0.5555555555555556, \"#d8576b\"], [0.6666666666666666, \"#ed7953\"], [0.7777777777777778, \"#fb9f3a\"], [0.8888888888888888, \"#fdca26\"], [1.0, \"#f0f921\"]], \"type\": \"contour\"}], \"contourcarpet\": [{\"colorbar\": {\"outlinewidth\": 0, \"ticks\": \"\"}, \"type\": \"contourcarpet\"}], \"heatmap\": [{\"colorbar\": {\"outlinewidth\": 0, \"ticks\": \"\"}, \"colorscale\": [[0.0, \"#0d0887\"], [0.1111111111111111, \"#46039f\"], [0.2222222222222222, \"#7201a8\"], [0.3333333333333333, \"#9c179e\"], [0.4444444444444444, \"#bd3786\"], [0.5555555555555556, \"#d8576b\"], [0.6666666666666666, \"#ed7953\"], [0.7777777777777778, \"#fb9f3a\"], [0.8888888888888888, \"#fdca26\"], [1.0, \"#f0f921\"]], \"type\": \"heatmap\"}], \"heatmapgl\": [{\"colorbar\": {\"outlinewidth\": 0, \"ticks\": \"\"}, \"colorscale\": [[0.0, \"#0d0887\"], [0.1111111111111111, \"#46039f\"], [0.2222222222222222, \"#7201a8\"], [0.3333333333333333, \"#9c179e\"], [0.4444444444444444, \"#bd3786\"], [0.5555555555555556, \"#d8576b\"], [0.6666666666666666, \"#ed7953\"], [0.7777777777777778, \"#fb9f3a\"], [0.8888888888888888, \"#fdca26\"], [1.0, \"#f0f921\"]], \"type\": \"heatmapgl\"}], \"histogram\": [{\"marker\": {\"colorbar\": {\"outlinewidth\": 0, \"ticks\": \"\"}}, \"type\": \"histogram\"}], \"histogram2d\": [{\"colorbar\": {\"outlinewidth\": 0, \"ticks\": \"\"}, \"colorscale\": [[0.0, \"#0d0887\"], [0.1111111111111111, \"#46039f\"], [0.2222222222222222, \"#7201a8\"], [0.3333333333333333, \"#9c179e\"], [0.4444444444444444, \"#bd3786\"], [0.5555555555555556, \"#d8576b\"], [0.6666666666666666, \"#ed7953\"], [0.7777777777777778, \"#fb9f3a\"], [0.8888888888888888, \"#fdca26\"], [1.0, \"#f0f921\"]], \"type\": \"histogram2d\"}], \"histogram2dcontour\": [{\"colorbar\": {\"outlinewidth\": 0, \"ticks\": \"\"}, \"colorscale\": [[0.0, \"#0d0887\"], [0.1111111111111111, \"#46039f\"], [0.2222222222222222, \"#7201a8\"], [0.3333333333333333, \"#9c179e\"], [0.4444444444444444, \"#bd3786\"], [0.5555555555555556, \"#d8576b\"], [0.6666666666666666, \"#ed7953\"], [0.7777777777777778, \"#fb9f3a\"], [0.8888888888888888, \"#fdca26\"], [1.0, \"#f0f921\"]], \"type\": \"histogram2dcontour\"}], \"mesh3d\": [{\"colorbar\": {\"outlinewidth\": 0, \"ticks\": \"\"}, \"type\": \"mesh3d\"}], \"parcoords\": [{\"line\": {\"colorbar\": {\"outlinewidth\": 0, \"ticks\": \"\"}}, \"type\": \"parcoords\"}], \"pie\": [{\"automargin\": true, \"type\": \"pie\"}], \"scatter\": [{\"marker\": {\"colorbar\": {\"outlinewidth\": 0, \"ticks\": \"\"}}, \"type\": \"scatter\"}], \"scatter3d\": [{\"line\": {\"colorbar\": {\"outlinewidth\": 0, \"ticks\": \"\"}}, \"marker\": {\"colorbar\": {\"outlinewidth\": 0, \"ticks\": \"\"}}, \"type\": \"scatter3d\"}], \"scattercarpet\": [{\"marker\": {\"colorbar\": {\"outlinewidth\": 0, \"ticks\": \"\"}}, \"type\": \"scattercarpet\"}], \"scattergeo\": [{\"marker\": {\"colorbar\": {\"outlinewidth\": 0, \"ticks\": \"\"}}, \"type\": \"scattergeo\"}], \"scattergl\": [{\"marker\": {\"colorbar\": {\"outlinewidth\": 0, \"ticks\": \"\"}}, \"type\": \"scattergl\"}], \"scattermapbox\": [{\"marker\": {\"colorbar\": {\"outlinewidth\": 0, \"ticks\": \"\"}}, \"type\": \"scattermapbox\"}], \"scatterpolar\": [{\"marker\": {\"colorbar\": {\"outlinewidth\": 0, \"ticks\": \"\"}}, \"type\": \"scatterpolar\"}], \"scatterpolargl\": [{\"marker\": {\"colorbar\": {\"outlinewidth\": 0, \"ticks\": \"\"}}, \"type\": \"scatterpolargl\"}], \"scatterternary\": [{\"marker\": {\"colorbar\": {\"outlinewidth\": 0, \"ticks\": \"\"}}, \"type\": \"scatterternary\"}], \"surface\": [{\"colorbar\": {\"outlinewidth\": 0, \"ticks\": \"\"}, \"colorscale\": [[0.0, \"#0d0887\"], [0.1111111111111111, \"#46039f\"], [0.2222222222222222, \"#7201a8\"], [0.3333333333333333, \"#9c179e\"], [0.4444444444444444, \"#bd3786\"], [0.5555555555555556, \"#d8576b\"], [0.6666666666666666, \"#ed7953\"], [0.7777777777777778, \"#fb9f3a\"], [0.8888888888888888, \"#fdca26\"], [1.0, \"#f0f921\"]], \"type\": \"surface\"}], \"table\": [{\"cells\": {\"fill\": {\"color\": \"#EBF0F8\"}, \"line\": {\"color\": \"white\"}}, \"header\": {\"fill\": {\"color\": \"#C8D4E3\"}, \"line\": {\"color\": \"white\"}}, \"type\": \"table\"}]}, \"layout\": {\"annotationdefaults\": {\"arrowcolor\": \"#2a3f5f\", \"arrowhead\": 0, \"arrowwidth\": 1}, \"coloraxis\": {\"colorbar\": {\"outlinewidth\": 0, \"ticks\": \"\"}}, \"colorscale\": {\"diverging\": [[0, \"#8e0152\"], [0.1, \"#c51b7d\"], [0.2, \"#de77ae\"], [0.3, \"#f1b6da\"], [0.4, \"#fde0ef\"], [0.5, \"#f7f7f7\"], [0.6, \"#e6f5d0\"], [0.7, \"#b8e186\"], [0.8, \"#7fbc41\"], [0.9, \"#4d9221\"], [1, \"#276419\"]], \"sequential\": [[0.0, \"#0d0887\"], [0.1111111111111111, \"#46039f\"], [0.2222222222222222, \"#7201a8\"], [0.3333333333333333, \"#9c179e\"], [0.4444444444444444, \"#bd3786\"], [0.5555555555555556, \"#d8576b\"], [0.6666666666666666, \"#ed7953\"], [0.7777777777777778, \"#fb9f3a\"], [0.8888888888888888, \"#fdca26\"], [1.0, \"#f0f921\"]], \"sequentialminus\": [[0.0, \"#0d0887\"], [0.1111111111111111, \"#46039f\"], [0.2222222222222222, \"#7201a8\"], [0.3333333333333333, \"#9c179e\"], [0.4444444444444444, \"#bd3786\"], [0.5555555555555556, \"#d8576b\"], [0.6666666666666666, \"#ed7953\"], [0.7777777777777778, \"#fb9f3a\"], [0.8888888888888888, \"#fdca26\"], [1.0, \"#f0f921\"]]}, \"colorway\": [\"#636efa\", \"#EF553B\", \"#00cc96\", \"#ab63fa\", \"#FFA15A\", \"#19d3f3\", \"#FF6692\", \"#B6E880\", \"#FF97FF\", \"#FECB52\"], \"font\": {\"color\": \"#2a3f5f\"}, \"geo\": {\"bgcolor\": \"white\", \"lakecolor\": \"white\", \"landcolor\": \"#E5ECF6\", \"showlakes\": true, \"showland\": true, \"subunitcolor\": \"white\"}, \"hoverlabel\": {\"align\": \"left\"}, \"hovermode\": \"closest\", \"mapbox\": {\"style\": \"light\"}, \"paper_bgcolor\": \"white\", \"plot_bgcolor\": \"#E5ECF6\", \"polar\": {\"angularaxis\": {\"gridcolor\": \"white\", \"linecolor\": \"white\", \"ticks\": \"\"}, \"bgcolor\": \"#E5ECF6\", \"radialaxis\": {\"gridcolor\": \"white\", \"linecolor\": \"white\", \"ticks\": \"\"}}, \"scene\": {\"xaxis\": {\"backgroundcolor\": \"#E5ECF6\", \"gridcolor\": \"white\", \"gridwidth\": 2, \"linecolor\": \"white\", \"showbackground\": true, \"ticks\": \"\", \"zerolinecolor\": \"white\"}, \"yaxis\": {\"backgroundcolor\": \"#E5ECF6\", \"gridcolor\": \"white\", \"gridwidth\": 2, \"linecolor\": \"white\", \"showbackground\": true, \"ticks\": \"\", \"zerolinecolor\": \"white\"}, \"zaxis\": {\"backgroundcolor\": \"#E5ECF6\", \"gridcolor\": \"white\", \"gridwidth\": 2, \"linecolor\": \"white\", \"showbackground\": true, \"ticks\": \"\", \"zerolinecolor\": \"white\"}}, \"shapedefaults\": {\"line\": {\"color\": \"#2a3f5f\"}}, \"ternary\": {\"aaxis\": {\"gridcolor\": \"white\", \"linecolor\": \"white\", \"ticks\": \"\"}, \"baxis\": {\"gridcolor\": \"white\", \"linecolor\": \"white\", \"ticks\": \"\"}, \"bgcolor\": \"#E5ECF6\", \"caxis\": {\"gridcolor\": \"white\", \"linecolor\": \"white\", \"ticks\": \"\"}}, \"title\": {\"x\": 0.05}, \"xaxis\": {\"automargin\": true, \"gridcolor\": \"white\", \"linecolor\": \"white\", \"ticks\": \"\", \"title\": {\"standoff\": 15}, \"zerolinecolor\": \"white\", \"zerolinewidth\": 2}, \"yaxis\": {\"automargin\": true, \"gridcolor\": \"white\", \"linecolor\": \"white\", \"ticks\": \"\", \"title\": {\"standoff\": 15}, \"zerolinecolor\": \"white\", \"zerolinewidth\": 2}}}},\n",
              "                        {\"responsive\": true}\n",
              "                    ).then(function(){\n",
              "                            \n",
              "var gd = document.getElementById('098cfd1a-b9ef-4602-83e9-3e814c6d7ec9');\n",
              "var x = new MutationObserver(function (mutations, observer) {{\n",
              "        var display = window.getComputedStyle(gd).display;\n",
              "        if (!display || display === 'none') {{\n",
              "            console.log([gd, 'removed!']);\n",
              "            Plotly.purge(gd);\n",
              "            observer.disconnect();\n",
              "        }}\n",
              "}});\n",
              "\n",
              "// Listen for the removal of the full notebook cells\n",
              "var notebookContainer = gd.closest('#notebook-container');\n",
              "if (notebookContainer) {{\n",
              "    x.observe(notebookContainer, {childList: true});\n",
              "}}\n",
              "\n",
              "// Listen for the clearing of the current output cell\n",
              "var outputEl = gd.closest('.output');\n",
              "if (outputEl) {{\n",
              "    x.observe(outputEl, {childList: true});\n",
              "}}\n",
              "\n",
              "                        })\n",
              "                };\n",
              "                \n",
              "            </script>\n",
              "        </div>\n",
              "</body>\n",
              "</html>"
            ]
          },
          "metadata": {}
        }
      ]
    },
    {
      "cell_type": "markdown",
      "source": [
        "**Split X and Y**"
      ],
      "metadata": {
        "id": "YVufCicMPAXr"
      }
    },
    {
      "cell_type": "code",
      "source": [
        "X = df.drop(['Y'],axis=1)\n",
        "y = df['Y']"
      ],
      "metadata": {
        "id": "vNABX_4cEIPY"
      },
      "execution_count": 415,
      "outputs": []
    },
    {
      "cell_type": "markdown",
      "source": [
        "**Now Think of It and add some new features**\n",
        "\n",
        "HINT\n",
        "\n",
        "\n",
        "\n",
        "*   **PolynomialFeatures** of degree 10\n",
        "*   **e ^ x**\n",
        "*   **log**\n",
        "\n",
        "\n",
        "\n",
        "\n",
        "\n",
        "\n",
        "\n"
      ],
      "metadata": {
        "id": "U5Ju5KA8Fb1T"
      }
    },
    {
      "cell_type": "code",
      "source": [
        "from sklearn.preprocessing import PolynomialFeatures\n",
        "\n",
        "p = PolynomialFeatures(degree = 10)\n",
        "X = p.fit_transform(X)"
      ],
      "metadata": {
        "id": "LHo-ZyztFnw-"
      },
      "execution_count": 416,
      "outputs": []
    },
    {
      "cell_type": "markdown",
      "source": [
        "**add some e^x feature**"
      ],
      "metadata": {
        "id": "SNuJ_DnWPQt-"
      }
    },
    {
      "cell_type": "code",
      "source": [
        "tmp = df['x1'].values\n",
        "\n",
        "X = np.hstack([X, np.exp(tmp).reshape(-1, 1)])"
      ],
      "metadata": {
        "id": "f0zKN7cOF-qV"
      },
      "execution_count": 417,
      "outputs": []
    },
    {
      "cell_type": "code",
      "source": [
        "tmp = df['x2'].values\n",
        "\n",
        "X = np.hstack([X, np.exp(tmp).reshape(-1, 1)])"
      ],
      "metadata": {
        "id": "r00ToOrHGPp8"
      },
      "execution_count": 418,
      "outputs": []
    },
    {
      "cell_type": "code",
      "source": [
        "tmp = df['x3'].values\n",
        "\n",
        "X = np.hstack([X, np.exp(tmp).reshape(-1, 1)])"
      ],
      "metadata": {
        "id": "4M0dvQ32GP02"
      },
      "execution_count": 419,
      "outputs": []
    },
    {
      "cell_type": "markdown",
      "source": [
        "**Add log feature if possible**"
      ],
      "metadata": {
        "id": "HgQJkmiRPVr_"
      }
    },
    {
      "cell_type": "code",
      "source": [
        "tmp = df['x3'].values\n",
        "\n",
        "X = np.hstack([X, np.log(tmp).reshape(-1, 1)])"
      ],
      "metadata": {
        "id": "vWwf4bjt_tin"
      },
      "execution_count": 420,
      "outputs": []
    },
    {
      "cell_type": "markdown",
      "source": [
        "now fit  in linear model and calculate mse"
      ],
      "metadata": {
        "id": "LDxSxsLRzHjF"
      }
    },
    {
      "cell_type": "code",
      "source": [
        "lin_reg.fit(X, y)\n",
        "\n",
        "from sklearn.metrics import mean_squared_error\n",
        "\n",
        "mean_squared_error(y, lin_reg.predict(X))"
      ],
      "metadata": {
        "id": "sKm3nVpPG6Rz",
        "outputId": "fe403b04-ba69-4ad6-f9ea-e60433a21dd7",
        "colab": {
          "base_uri": "https://localhost:8080/"
        }
      },
      "execution_count": 428,
      "outputs": [
        {
          "output_type": "execute_result",
          "data": {
            "text/plain": [
              "0.13336958755364892"
            ]
          },
          "metadata": {},
          "execution_count": 428
        }
      ]
    },
    {
      "cell_type": "code",
      "source": [
        "# This is what error i got try to minimize it"
      ],
      "metadata": {
        "colab": {
          "base_uri": "https://localhost:8080/"
        },
        "id": "Xqbg7ogeG6UW",
        "outputId": "17815365-2886-4bc8-eaf9-8bc37079aa50"
      },
      "execution_count": null,
      "outputs": [
        {
          "output_type": "execute_result",
          "data": {
            "text/plain": [
              "0.13336958755364892"
            ]
          },
          "metadata": {},
          "execution_count": 93
        }
      ]
    },
    {
      "cell_type": "markdown",
      "source": [
        "**Now it's time to check which features having more weights**"
      ],
      "metadata": {
        "id": "HYe-UUMYIHoe"
      }
    },
    {
      "cell_type": "code",
      "source": [
        ""
      ],
      "metadata": {
        "id": "6ue6XNOtQE7P",
        "outputId": "0c536dc2-33e4-4e62-af4a-1e3caaa5b7ac",
        "colab": {
          "base_uri": "https://localhost:8080/",
          "height": 166
        }
      },
      "execution_count": 427,
      "outputs": [
        {
          "output_type": "error",
          "ename": "TypeError",
          "evalue": "ignored",
          "traceback": [
            "\u001b[0;31m---------------------------------------------------------------------------\u001b[0m",
            "\u001b[0;31mTypeError\u001b[0m                                 Traceback (most recent call last)",
            "\u001b[0;32m<ipython-input-427-fdbf4702df80>\u001b[0m in \u001b[0;36m<module>\u001b[0;34m()\u001b[0m\n\u001b[0;32m----> 1\u001b[0;31m \u001b[0mlin_reg\u001b[0m\u001b[0;34m.\u001b[0m\u001b[0mfit\u001b[0m\u001b[0;34m(\u001b[0m\u001b[0;34m)\u001b[0m\u001b[0;34m\u001b[0m\u001b[0;34m\u001b[0m\u001b[0m\n\u001b[0m",
            "\u001b[0;31mTypeError\u001b[0m: fit() missing 2 required positional arguments: 'X' and 'y'"
          ]
        }
      ]
    },
    {
      "cell_type": "code",
      "source": [
        ""
      ],
      "metadata": {
        "colab": {
          "base_uri": "https://localhost:8080/"
        },
        "id": "Ywtn7ZBoG6Wt",
        "outputId": "4aead490-59f5-4636-a7f8-dab368229fa4"
      },
      "execution_count": null,
      "outputs": [
        {
          "output_type": "execute_result",
          "data": {
            "text/plain": [
              "array([-1.05379771e-03,  1.97346567e-01, -1.99894954e-01, -6.17531996e+00,\n",
              "       -1.91417541e+01,  1.97992498e+01, -2.18439336e+00, -2.04780945e+01,\n",
              "       -2.63337521e+00,  6.66491122e+00, -2.28563095e+01,  8.34588023e+00,\n",
              "       -4.08357728e-01,  7.06547801e+00, -1.30541709e+00,  2.61132350e+00,\n",
              "       -2.34183283e+01, -7.39210258e-01,  2.58172948e+00,  8.66707637e+00,\n",
              "       -1.39957562e+01, -3.68038932e+00,  1.32785060e-01,  1.03660945e+01,\n",
              "       -4.58667084e-01,  7.60598317e-01, -5.06087749e+00, -5.59855175e-01,\n",
              "        1.28095712e+00,  3.40982910e+00, -1.32940955e+01, -8.99884624e-03,\n",
              "        7.23540962e-01,  3.34286727e+00,  1.46567195e-03, -3.59950707e+00,\n",
              "       -7.35505022e+00,  1.25688335e-01,  4.64303331e+00, -2.41656847e-02,\n",
              "        8.76023988e-02,  3.41853994e+00, -3.37304048e-01,  5.10564635e-01,\n",
              "        9.14736203e-01, -7.50393128e+00, -9.58105317e-02,  4.87281419e-01,\n",
              "        1.75316216e+00,  5.57234985e-04, -2.79393549e+00,  9.12275944e-02,\n",
              "        7.11119013e-02,  8.39807868e-01,  5.85288219e-04, -1.97042904e-05,\n",
              "        1.29000000e+01,  1.06350300e-04,  1.75770509e-12,  9.60486543e+00])"
            ]
          },
          "metadata": {},
          "execution_count": 44
        }
      ]
    },
    {
      "cell_type": "markdown",
      "source": [
        "**Seems like its trying to overfit the data all the weights are too high to too low**\n",
        "\n",
        "\n",
        "**Let's use Ridge and Lasso to solve this**"
      ],
      "metadata": {
        "id": "RbILxNuWItVz"
      }
    },
    {
      "cell_type": "code",
      "source": [
        "from sklearn.linear_model import Ridge, Lasso"
      ],
      "metadata": {
        "id": "iYql1a8UG6Zd"
      },
      "execution_count": 445,
      "outputs": []
    },
    {
      "cell_type": "code",
      "source": [
        "ridge = Ridge()\n",
        "lasso = Lasso()"
      ],
      "metadata": {
        "id": "iXfiiBY00obJ"
      },
      "execution_count": 446,
      "outputs": []
    },
    {
      "cell_type": "code",
      "source": [
        "ridge.fit(X,y)\n",
        "lasso.fit(X,y)"
      ],
      "metadata": {
        "id": "Sn7njUiY090J",
        "outputId": "867f2883-ecc3-40ce-a287-ef844ba0ef5c",
        "colab": {
          "base_uri": "https://localhost:8080/"
        }
      },
      "execution_count": 447,
      "outputs": [
        {
          "output_type": "stream",
          "name": "stderr",
          "text": [
            "/usr/local/lib/python3.7/dist-packages/sklearn/linear_model/_ridge.py:197: UserWarning:\n",
            "\n",
            "Singular matrix in solving dual problem. Using least-squares solution instead.\n",
            "\n"
          ]
        },
        {
          "output_type": "execute_result",
          "data": {
            "text/plain": [
              "Lasso()"
            ]
          },
          "metadata": {},
          "execution_count": 447
        }
      ]
    },
    {
      "cell_type": "markdown",
      "source": [
        "**Now let's see how many unnecessary features are there**"
      ],
      "metadata": {
        "id": "yJwL1f3AJNKb"
      }
    },
    {
      "cell_type": "code",
      "source": [
        "lin_reg.coef_"
      ],
      "metadata": {
        "id": "EO-xbiMH1Hw8",
        "outputId": "c69533ab-7ac6-436f-c8c4-c65464a2f17c",
        "colab": {
          "base_uri": "https://localhost:8080/"
        }
      },
      "execution_count": 448,
      "outputs": [
        {
          "output_type": "execute_result",
          "data": {
            "text/plain": [
              "array([ 6.56161847e-09, -3.13073361e-06,  3.21302398e-06,  5.03451847e-08,\n",
              "       -5.79937053e-06,  3.48037412e-06, -6.73568577e-06, -1.03531032e-06,\n",
              "        6.95268817e-06,  2.20917475e-07, -3.34720253e-05,  2.97744186e-05,\n",
              "       -1.27838137e-05, -2.78102921e-05,  7.80258285e-06, -1.43503791e-05,\n",
              "        2.77247918e-05, -2.51894983e-06,  1.49024292e-05,  6.32047828e-07,\n",
              "       -9.42019888e-05,  7.02557054e-05, -7.79106272e-05, -4.85984198e-05,\n",
              "        6.98684223e-05, -2.65734849e-05,  2.79218318e-05, -6.55471311e-05,\n",
              "        1.59435404e-05, -3.05971624e-05, -6.76862335e-06,  6.52834110e-05,\n",
              "       -4.59803164e-06,  3.19013360e-05,  1.10991854e-06, -3.54430684e-04,\n",
              "        2.89387816e-04, -2.56864614e-04, -2.41538254e-04,  2.02115819e-04,\n",
              "       -1.66140062e-04,  2.09527350e-04, -1.52275376e-04,  1.49533102e-04,\n",
              "       -5.06309697e-05, -1.92997677e-04,  1.04534887e-04, -1.40881178e-04,\n",
              "        2.78077092e-05, -6.65785176e-05,  1.92732913e-04, -5.57462705e-05,\n",
              "        1.40958553e-04, -3.35422576e-06,  6.92068354e-05, -4.79083521e-07,\n",
              "       -1.08098099e-03,  8.29614164e-04, -1.12489896e-03, -6.22982050e-04,\n",
              "        9.51713707e-04, -5.62424698e-04,  4.48688219e-04, -8.17193684e-04,\n",
              "        4.46062141e-04, -3.35198296e-04, -2.95079475e-04,  7.18481379e-04,\n",
              "       -3.39748169e-04,  3.04047486e-04, -5.89964883e-05,  1.50478137e-04,\n",
              "       -6.54861241e-04,  2.37466928e-04, -2.90095281e-04,  7.98703989e-06,\n",
              "       -1.50903667e-04, -2.28052541e-06,  6.28084218e-04, -1.32432990e-04,\n",
              "        2.95081294e-04,  4.64397501e-05,  1.54496592e-04, -7.54024570e-06,\n",
              "       -3.79542016e-03,  3.04189359e-03, -3.96938219e-03, -2.46698487e-03,\n",
              "        3.18576149e-03, -2.22266390e-03,  2.04007759e-03, -2.51824439e-03,\n",
              "        1.83713556e-03, -1.26770857e-03, -1.73953630e-03,  1.93936107e-03,\n",
              "       -1.53332691e-03,  1.03643909e-03, -7.49087800e-04,  1.55235609e-03,\n",
              "       -1.42317475e-03,  1.30545538e-03, -8.23676313e-04,  7.22224462e-04,\n",
              "        2.38833010e-04, -1.47440904e-03,  9.43631001e-04, -1.15233557e-03,\n",
              "        6.16329416e-04, -7.34924811e-04, -3.64252562e-04, -2.94244113e-04,\n",
              "        1.51140886e-03, -4.72607434e-04,  1.07810783e-03, -3.99589694e-04,\n",
              "        7.90927898e-04,  4.95809150e-04,  2.96034553e-04,  1.12498348e-05,\n",
              "       -7.48325306e-03,  4.68379643e-03, -6.01560423e-03, -2.40555930e-03,\n",
              "        3.04018682e-03, -6.14997466e-03,  5.21243854e-04, -6.05116871e-04,\n",
              "        4.55708145e-03, -4.98714153e-03,  1.07562677e-03, -1.36704668e-03,\n",
              "       -3.22663447e-03,  4.11755954e-03, -4.25811555e-03, -2.47725087e-03,\n",
              "        2.93409612e-03,  2.10102466e-03, -3.40767499e-03,  3.77878612e-03,\n",
              "       -2.74344873e-03,  3.76798598e-03, -4.13486819e-03, -1.12569211e-03,\n",
              "        2.84707987e-03, -3.30805065e-03,  3.00419713e-03,  1.82098849e-03,\n",
              "       -5.03115063e-03,  4.98865236e-03,  2.45576981e-04, -2.43542717e-03,\n",
              "        2.81490082e-03, -3.37082276e-03, -2.10120722e-03,  2.28113883e-04,\n",
              "        6.35676687e-03, -5.49304381e-03,  5.99098230e-04,  2.18405181e-03,\n",
              "       -2.26456039e-03,  3.85095690e-03,  2.39021364e-03, -2.25235430e-04,\n",
              "       -1.50751836e-04, -7.85642246e-03,  2.15533896e-03, -3.16307776e-03,\n",
              "        1.48567549e-03, -1.50284453e-03, -1.01470465e-02, -3.42389805e-03,\n",
              "        3.94254056e-03,  5.55883086e-03, -9.16409172e-03,  3.92550878e-03,\n",
              "       -4.52401545e-03, -2.10742002e-03,  5.46803502e-03, -5.09645519e-03,\n",
              "       -3.17963284e-03,  3.56382116e-03, -3.84464573e-04, -2.36122578e-03,\n",
              "        1.86890229e-03, -6.46825368e-03,  1.30758292e-03, -1.34121421e-03,\n",
              "        2.05328573e-03, -2.66906416e-04,  1.06516827e-03,  4.47259031e-03,\n",
              "        2.82561272e-03,  1.63273283e-03, -1.88786033e-03, -2.99602385e-03,\n",
              "        2.52162491e-03, -3.70481796e-03, -2.21855548e-03, -1.46234844e-03,\n",
              "        9.90155679e-04, -5.64766048e-03,  5.87595055e-03,  3.26874313e-03,\n",
              "       -4.51068911e-03,  6.02460329e-03, -3.84237350e-04, -1.58016497e-04,\n",
              "       -8.36122506e-04, -1.44560708e-04,  1.08147833e-02, -1.03671944e-02,\n",
              "       -2.88179047e-03,  6.35364289e-03, -7.97095634e-03,  3.43457800e-03,\n",
              "        2.04918560e-03,  6.80308281e-04,  2.93503626e-05, -4.28121532e-05,\n",
              "       -3.17129735e-03, -2.94768714e-03,  2.61151389e-03,  4.72684097e-03,\n",
              "       -5.17740413e-03, -9.08205329e-03, -3.67832897e-03,  4.12719672e-03,\n",
              "        1.31022871e-03, -8.59259259e-03,  1.07205168e-03, -1.12327480e-03,\n",
              "        3.04384288e-03,  1.58390506e-03, -1.95188371e-05,  1.99882303e-03,\n",
              "       -2.41875805e-03, -4.78769577e-03,  2.69128413e-03, -4.00348473e-03,\n",
              "       -7.46147929e-03, -4.56166231e-03,  5.29595199e-03,  4.61016352e-03,\n",
              "       -4.62623304e-03,  5.58428798e-03,  2.55131756e-03,  2.30750355e-03,\n",
              "        5.71400714e-03, -6.49417125e-03, -3.11046864e-03,  4.53725962e-03,\n",
              "       -4.89032034e-03,  9.12534817e-04, -1.37479724e-04,  1.09682724e-03,\n",
              "       -4.57537745e-03,  5.17465628e-03,  8.27041104e-04, -2.66590471e-03,\n",
              "        2.09415716e-03, -2.68803982e-03, -1.01338764e-03, -3.43990799e-04,\n",
              "       -1.66107979e-04,  2.37103708e-04, -6.71922208e-04,  1.73178154e-03,\n",
              "       -8.25010479e-04,  2.60699971e-03,  2.45543240e-03,  9.15306214e-04,\n",
              "       -3.07054227e-04,  5.63511159e-05, -1.63076316e-05,  8.29464411e-03,\n",
              "       -7.49502143e-03, -4.05245286e-03,  5.86275454e-03, -8.96846382e-03,\n",
              "        1.91459674e-04,  6.78385051e-04,  8.52220411e-04, -3.46623484e-05,\n",
              "       -1.70612027e-05,  2.56310065e-06,  1.28998282e+01,  8.90381095e-06,\n",
              "        1.43532118e-04,  2.05890273e-08])"
            ]
          },
          "metadata": {},
          "execution_count": 448
        }
      ]
    },
    {
      "cell_type": "code",
      "source": [
        "ridge.coef_"
      ],
      "metadata": {
        "id": "m9gr6p6kJUSq",
        "outputId": "bc8a7f51-191f-4d41-bbe5-ba415ccf4b22",
        "colab": {
          "base_uri": "https://localhost:8080/"
        }
      },
      "execution_count": 449,
      "outputs": [
        {
          "output_type": "execute_result",
          "data": {
            "text/plain": [
              "array([ 0.00000000e+00, -4.11853968e-09,  4.22692231e-09, -1.18167102e-09,\n",
              "       -2.57067372e-08,  2.31317516e-08, -3.19827479e-08, -2.04034379e-08,\n",
              "        3.18915010e-08, -1.74033647e-08, -5.77605948e-07,  5.72511312e-07,\n",
              "       -2.24352978e-07, -5.69315491e-07,  2.05007466e-07, -2.62529231e-07,\n",
              "        5.68189500e-07, -1.85224898e-07,  2.55698396e-07, -2.21826826e-07,\n",
              "       -5.31804165e-06,  5.00198542e-06, -3.77358711e-06, -4.68163400e-06,\n",
              "        3.69577126e-06, -1.84364819e-06,  4.35537530e-06, -3.63118040e-06,\n",
              "        1.68490533e-06, -2.25724044e-06, -4.02141978e-06,  3.58050759e-06,\n",
              "       -1.52737779e-06,  2.14151506e-06, -2.64896203e-06, -7.11824817e-05,\n",
              "        6.88572510e-05, -2.99924681e-05, -6.67203481e-05,  2.78025959e-05,\n",
              "       -2.58721436e-05,  6.47801199e-05, -2.56165290e-05,  2.50974777e-05,\n",
              "       -1.47280626e-05, -6.30464057e-05,  2.34239268e-05, -2.44277493e-05,\n",
              "        1.33336113e-05, -1.85638526e-05,  6.15307165e-05, -2.12136294e-05,\n",
              "        2.38647602e-05, -1.19938260e-05,  1.69610892e-05, -2.86045704e-05,\n",
              "       -5.81194973e-04,  5.40292881e-04, -3.00039108e-04, -5.00150127e-04,\n",
              "        2.84256610e-04, -1.63906591e-04,  4.60638014e-04, -2.69787629e-04,\n",
              "        1.47794546e-04, -1.77891425e-04, -4.21617867e-04,  2.56663728e-04,\n",
              "       -1.31870077e-04,  1.70945360e-04, -1.02294971e-04,  3.82939596e-04,\n",
              "       -2.44925463e-04,  1.16055277e-04, -1.64917387e-04,  9.03312709e-05,\n",
              "       -1.25346848e-04, -3.44440072e-04,  2.34623268e-04, -1.00268764e-04,\n",
              "        1.59788508e-04, -7.93180760e-05,  1.06062894e-04, -2.54879414e-04,\n",
              "       -4.66067046e-03,  4.32448155e-03, -1.38316989e-03, -4.01173668e-03,\n",
              "        1.18269612e-03, -1.04214805e-03,  3.72245334e-03, -9.89406589e-04,\n",
              "        9.40173054e-04, -7.68534273e-04, -3.45675105e-03,  8.02453371e-04,\n",
              "       -8.48234546e-04,  6.48318260e-04, -1.00539732e-03,  3.21486197e-03,\n",
              "       -6.20941306e-04,  7.66448552e-04, -5.30422404e-04,  9.51095954e-04,\n",
              "       -4.52313324e-04, -2.99714286e-03,  4.43919659e-04, -6.94995663e-04,\n",
              "        4.14182951e-04, -9.04810634e-04,  3.65258268e-04, -4.53204916e-04,\n",
              "        2.80408867e-03, -2.70372860e-04,  6.34125472e-04, -2.98933680e-04,\n",
              "        8.66001907e-04, -2.91136464e-04,  2.63910771e-04, -1.49146804e-03,\n",
              "       -1.16769359e-02,  8.30474703e-03, -3.84668674e-03, -5.10922863e-03,\n",
              "        2.85593911e-03,  1.93848789e-04,  2.07652147e-03, -1.99738794e-03,\n",
              "       -1.02169853e-03, -1.91817344e-03,  8.07612177e-04,  1.26884032e-03,\n",
              "        1.79082722e-03,  1.36191410e-03, -1.58905294e-03, -3.55787911e-03,\n",
              "       -6.68715033e-04, -2.50761310e-03, -8.85923741e-04,  8.37135402e-04,\n",
              "       -2.62990536e-03,  6.18955643e-03,  1.96095977e-04,  3.17869388e-03,\n",
              "        4.90482994e-04, -1.08300054e-04,  2.34202393e-03,  4.55734999e-04,\n",
              "       -8.71860492e-03,  1.49206491e-04, -3.81102451e-03, -1.76403901e-04,\n",
              "       -6.03174129e-04, -2.11529435e-03, -8.25521380e-04,  1.83831304e-03,\n",
              "        1.11617961e-02, -3.66585235e-04,  4.41194000e-03, -5.49541645e-05,\n",
              "        1.30273285e-03,  1.94111541e-03,  1.05559624e-03, -3.06416447e-03,\n",
              "       -1.15462416e-03, -1.43057347e-02,  5.46356773e-03, -6.56646220e-03,\n",
              "        9.49033405e-04,  3.70240589e-03,  4.74311600e-03, -5.00760951e-03,\n",
              "       -1.54514885e-03, -4.71489632e-03, -3.58677296e-03,  6.77874777e-03,\n",
              "        8.92544222e-06,  4.03236844e-03,  2.16681428e-03, -1.16889685e-03,\n",
              "       -6.31954730e-03,  9.92555718e-04, -2.72467243e-03, -1.14864036e-03,\n",
              "       -5.48581894e-05, -3.16428396e-03,  3.67699925e-03, -1.54660853e-03,\n",
              "        8.16679787e-04,  4.79454258e-04,  7.17198196e-04,  1.17131352e-03,\n",
              "        7.17613759e-04,  1.11272953e-03,  1.74212136e-03,  1.67132381e-03,\n",
              "       -1.04848059e-04, -8.21571875e-04,  6.46828702e-04, -3.76707543e-04,\n",
              "        1.59198189e-03, -8.02512103e-03, -1.67017206e-03, -4.72400958e-03,\n",
              "       -3.16590194e-05,  3.67002086e-04, -2.33381973e-03, -2.65106505e-04,\n",
              "       -1.82576388e-04, -5.96261960e-04,  1.70482527e-02,  1.42471457e-03,\n",
              "        8.33143614e-03, -1.08927151e-05,  6.51813267e-04,  3.92769558e-03,\n",
              "        1.10544844e-03, -2.23169618e-03, -2.99592323e-04,  1.28192949e-04,\n",
              "       -7.12071556e-03, -3.98589820e-03, -6.16237623e-03,  8.40413324e-03,\n",
              "        1.14049490e-03,  7.73301771e-03, -7.87605776e-03,  1.75244407e-03,\n",
              "       -4.19195293e-03, -4.45115058e-03,  4.12994649e-03, -3.01841538e-03,\n",
              "        5.79980901e-04,  1.73662326e-03, -1.61672291e-04,  1.11301373e-03,\n",
              "        3.10489377e-03,  2.58820520e-03, -7.16810109e-05, -7.56886472e-04,\n",
              "       -1.29565027e-03, -6.13141983e-03, -2.40300487e-03, -4.80737305e-03,\n",
              "       -8.33253972e-04,  7.33495435e-04, -1.16837259e-03,  3.26714194e-04,\n",
              "        9.19566710e-03,  1.24523510e-03,  5.57863007e-03,  1.23369823e-03,\n",
              "       -1.86588849e-04,  2.12384043e-03,  2.31225251e-04,  5.79668236e-04,\n",
              "       -8.55918770e-03,  9.73545302e-05, -4.40596997e-03, -1.34893876e-03,\n",
              "       -4.57110294e-04, -1.66907673e-03, -5.34710820e-04,  6.61905152e-04,\n",
              "       -2.24802709e-04,  2.44880758e-03, -1.41847336e-03,  7.92435291e-04,\n",
              "        1.35944319e-03,  7.58877996e-04, -1.29489457e-04,  3.39487556e-04,\n",
              "       -8.23462964e-04, -2.40014556e-04,  5.34474511e-05,  1.09458970e-02,\n",
              "        2.58057628e-03,  5.76416073e-03, -1.40381752e-03, -2.64259052e-04,\n",
              "        3.23370937e-03,  5.24301028e-04, -9.16732368e-04,  9.81047515e-06,\n",
              "        4.63509700e-05, -4.05655192e-06,  1.29000271e+01,  1.24700149e-06,\n",
              "        1.59665062e-05, -2.07556051e-10])"
            ]
          },
          "metadata": {},
          "execution_count": 449
        }
      ]
    },
    {
      "cell_type": "code",
      "source": [
        "lasso.coef_"
      ],
      "metadata": {
        "id": "cvOcPwlSJVJy",
        "outputId": "50017ae5-1a1b-4bf7-8005-45df93f9c7a0",
        "colab": {
          "base_uri": "https://localhost:8080/"
        }
      },
      "execution_count": 450,
      "outputs": [
        {
          "output_type": "execute_result",
          "data": {
            "text/plain": [
              "array([ 0.00000000e+00, -8.51906989e+10,  9.93971339e-02,  3.17387215e+10,\n",
              "        9.81931914e+09, -2.92713489e+08,  2.53663094e+09, -9.44866266e+08,\n",
              "       -8.38070860e+08, -1.61539509e+09, -2.98936043e+07, -4.21403016e+05,\n",
              "       -3.30277030e+08,  1.46632952e+08,  2.00857637e+08,  9.20897843e+07,\n",
              "       -6.49389323e+07, -1.79419389e+08, -9.15042384e+07,  6.60308137e+07,\n",
              "       -4.69988442e+06,  1.98679919e+05, -5.80740754e+06,  2.35316960e+06,\n",
              "        3.55326806e+06,  3.40324348e+06, -5.17709205e+05, -3.58647519e+06,\n",
              "       -3.14469495e+06, -1.10678607e+06,  7.35625259e+05,  2.99574060e+06,\n",
              "        3.38949411e+06,  8.35462803e+05, -1.16359437e+05, -1.75487260e+05,\n",
              "        6.26508280e+03, -4.34870609e+04,  1.22984401e+04,  2.56838721e+04,\n",
              "        2.51596847e+05,  5.74852273e+04, -1.07171190e+05, -2.06650796e+05,\n",
              "        2.48893049e+04, -1.52279059e+04,  1.50075619e+05,  1.78361117e+05,\n",
              "        9.98968613e+02, -1.50066731e+05, -2.32595796e+04, -1.11594659e+05,\n",
              "       -2.18212941e+05,  4.87409143e+04,  1.03692398e+05, -3.06354756e+04,\n",
              "       -3.73441061e+03,  1.20432007e+02, -2.49593544e+03,  9.16679790e+02,\n",
              "        1.52397352e+03,  1.50686554e+04,  3.10778017e+03, -6.09732930e+03,\n",
              "       -1.28242632e+04, -2.30990375e+03, -3.13269444e+02,  7.55176353e+03,\n",
              "        1.21302202e+04,  3.19008404e+03, -1.93478880e+03, -7.63053167e+02,\n",
              "       -7.49677540e+03, -1.23558942e+04, -3.23285433e+03,  1.63089004e+03,\n",
              "       -3.06885131e+03,  7.34176889e+02,  6.92713807e+03,  1.31957063e+04,\n",
              "        2.33551802e+03, -5.08822509e+01,  1.78108673e+03, -7.35439732e+02,\n",
              "        1.99715186e+01,  4.88517484e-02, -2.33365395e+02,  9.38531295e+01,\n",
              "        1.46240905e+02,  5.72064919e+02,  7.42883094e+01, -2.83135257e+02,\n",
              "       -5.05397471e+02,  7.23435167e+01, -1.45568173e+01,  3.66834431e+02,\n",
              "        4.57941031e+02, -3.29926754e+01, -3.72175900e+02, -7.24877853e+01,\n",
              "       -3.10979982e+02, -4.94139571e+02,  7.27823612e+01,  3.39927958e+02,\n",
              "        3.34808356e+01,  3.10048664e+01,  3.11928627e+02,  4.99621033e+02,\n",
              "       -8.69576550e+01, -3.37392035e+02, -5.39556248e+01,  2.98776691e+01,\n",
              "       -2.69910963e+01, -3.27147298e+02, -4.93305296e+02,  8.66555164e+01,\n",
              "        3.56685172e+02,  5.06354187e+01, -2.71963604e+01, -1.62678068e+01,\n",
              "        5.49241198e+00, -1.20984322e-01, -1.01153294e+01,  4.06098506e+00,\n",
              "        6.27597842e+00,  1.75138189e+01,  1.35446165e+00, -9.73020496e+00,\n",
              "       -1.57867877e+01,  8.14245977e-01,  2.60995066e-01,  1.15232708e+01,\n",
              "        1.46982403e+01,  1.41825950e-01, -6.86243339e+00, -2.02129666e+00,\n",
              "       -1.06099024e+01, -1.50306796e+01,  4.81515272e-02,  6.34912901e+00,\n",
              "       -1.15216867e+01,  2.22851030e+00,  8.40517675e+00,  1.64676353e+01,\n",
              "       -1.62130405e+00, -3.82162630e+00,  9.22191113e+00,  6.22085175e+00,\n",
              "       -2.75056825e-01, -9.65854125e+00, -1.58247539e+01,  1.15094279e+00,\n",
              "        4.01907581e+00, -1.03081592e+01, -5.74360839e+00,  3.29659886e+00,\n",
              "        1.14033233e+00,  1.01729214e+01,  1.53369473e+01, -5.00864537e-01,\n",
              "       -4.70885636e+00,  1.24006069e+01,  4.02569750e+00, -2.15516544e+00,\n",
              "       -4.26659837e-01,  2.87570713e-01, -7.35540510e-03, -2.51957811e-01,\n",
              "        1.02247709e-01,  1.52590676e-01,  4.54327401e-01,  3.25439052e-02,\n",
              "       -2.44587704e-01, -4.07093866e-01, -2.35246901e-01,  4.56046325e-02,\n",
              "        2.24004603e-01,  4.09800215e-01,  2.41013247e-01, -2.99804453e-01,\n",
              "       -6.70939264e-02, -1.50847017e-01, -4.43260586e-01, -2.19574049e-01,\n",
              "        2.67788726e-01,  9.50980536e-02,  2.03235082e-02,  1.43928115e-01,\n",
              "        4.45454296e-01,  2.19895561e-01, -2.60434527e-01, -1.25119488e-01,\n",
              "       -1.31180700e-01, -1.97746757e-02, -1.30326164e-01, -4.54422137e-01,\n",
              "       -2.10844584e-01,  2.38343380e-01,  1.78349868e-01,  1.07990897e-01,\n",
              "        1.77224944e-01,  3.29760638e-03,  1.60184268e-01,  4.33671850e-01,\n",
              "        2.34581987e-01, -2.65155563e-01, -1.62536522e-01, -1.67848664e-01,\n",
              "       -1.36411837e-01,  8.43265858e-02, -3.09994530e-02, -1.52380786e-01,\n",
              "       -4.29567059e-01, -2.48764870e-01,  2.84638612e-01,  1.52060239e-01,\n",
              "        2.34577738e-01,  7.91724061e-02, -4.98752026e-02,  6.49400510e-03,\n",
              "        1.07423853e-02, -3.27911878e-04, -4.43018418e-04,  4.91207889e-04,\n",
              "        1.29774918e-04,  9.95189522e-03,  1.65562204e-03, -3.34729679e-03,\n",
              "       -8.37387684e-03, -2.24079510e-02,  2.86526182e-03, -1.09144820e-03,\n",
              "        1.02242546e-02,  2.15668887e-02, -2.34318078e-02, -2.93879188e-03,\n",
              "        7.54180282e-03, -1.34781491e-02, -1.93391633e-02,  2.08025226e-02,\n",
              "        1.02162131e-02, -1.25646952e-03, -7.68373076e-03,  1.38761902e-02,\n",
              "        1.89042423e-02, -2.00839638e-02, -1.17673559e-02,  3.25200679e-02,\n",
              "        2.96339507e-03,  3.33653494e-03, -1.14146566e-02, -2.12872300e-02,\n",
              "        2.32274560e-02,  7.89945604e-03, -2.87238194e-02, -3.34735910e-03,\n",
              "        2.01496914e-04, -4.13350668e-03,  1.14215273e-02,  2.19428396e-02,\n",
              "       -2.43604705e-02, -6.68626637e-03,  2.81650254e-02,  5.64708663e-03,\n",
              "       -6.79779997e-03, -2.63893703e-04,  5.94862839e-03, -1.22514775e-02,\n",
              "       -2.16065115e-02,  2.39623456e-02,  7.85530060e-03, -3.09838870e-02,\n",
              "       -4.41345539e-03,  5.99205817e-03,  9.53356171e-04, -8.27447204e-04,\n",
              "       -5.87364459e-03,  1.21057916e-02,  2.20498846e-02, -2.45809203e-02,\n",
              "       -7.53502178e-03,  3.19204868e-02,  5.25922658e-03, -6.74831747e-03,\n",
              "       -7.16299037e-04,  2.27377204e-03,  1.15598720e+01, -9.22642107e+07,\n",
              "       -1.02004267e-01, -1.04808727e+11])"
            ]
          },
          "metadata": {},
          "execution_count": 450
        }
      ]
    },
    {
      "cell_type": "markdown",
      "source": [
        "**Too Many data**\n",
        "\n",
        "Check in Validation DataSet"
      ],
      "metadata": {
        "id": "d_9AQ3SNNWge"
      }
    },
    {
      "cell_type": "markdown",
      "source": [
        "**Split data set into train and validation**"
      ],
      "metadata": {
        "id": "djbY-yY1NPyJ"
      }
    },
    {
      "cell_type": "code",
      "source": [
        "from sklearn.model_selection import train_test_split\n",
        "\n",
        "xtrain, xtest, ytrain, ytest = train_test_split(X, y) "
      ],
      "metadata": {
        "id": "NN8r-iiUJWWq"
      },
      "execution_count": 451,
      "outputs": []
    },
    {
      "cell_type": "code",
      "source": [
        "lin_reg.fit(xtrain, ytrain)\n",
        "ridge.fit(xtrain, ytrain)\n",
        "lasso.fit(xtrain, ytrain)"
      ],
      "metadata": {
        "colab": {
          "base_uri": "https://localhost:8080/"
        },
        "id": "BFOEetf1L39Q",
        "outputId": "76313bbb-4f11-4ffb-bcb2-3a7fa7af6ad3"
      },
      "execution_count": 454,
      "outputs": [
        {
          "output_type": "stream",
          "name": "stderr",
          "text": [
            "/usr/local/lib/python3.7/dist-packages/sklearn/linear_model/_ridge.py:197: UserWarning:\n",
            "\n",
            "Singular matrix in solving dual problem. Using least-squares solution instead.\n",
            "\n"
          ]
        },
        {
          "output_type": "execute_result",
          "data": {
            "text/plain": [
              "Lasso()"
            ]
          },
          "metadata": {},
          "execution_count": 454
        }
      ]
    },
    {
      "cell_type": "markdown",
      "source": [
        "**Check for errors and compare all 3 of them**"
      ],
      "metadata": {
        "id": "S0IjEZ1mM_G0"
      }
    },
    {
      "cell_type": "code",
      "source": [
        ""
      ],
      "metadata": {
        "id": "EsMDovaqBleo"
      },
      "execution_count": null,
      "outputs": []
    },
    {
      "cell_type": "code",
      "source": [
        "print('Linear', mean_squared_error(ytest, lin_reg.predict(xtest) ))\n",
        "print('Ridge', mean_squared_error(ytest, ridge.predict(xtest)))\n",
        "print('Lasso', mean_squared_error(ytest, lasso.predict(xtest) ))"
      ],
      "metadata": {
        "id": "2aeB8vXQQdSV",
        "outputId": "955174a2-91ae-4484-a474-cde82754a102",
        "colab": {
          "base_uri": "https://localhost:8080/"
        }
      },
      "execution_count": 452,
      "outputs": [
        {
          "output_type": "stream",
          "name": "stdout",
          "text": [
            "Linear 1.6063208564651142e+16\n",
            "Ridge 1146237081410.9905\n",
            "Lasso 3.886904554030983e+21\n"
          ]
        }
      ]
    },
    {
      "cell_type": "code",
      "source": [
        ""
      ],
      "metadata": {
        "colab": {
          "base_uri": "https://localhost:8080/"
        },
        "id": "g6AUPNkRL-Js",
        "outputId": "85eeaccb-5705-4f19-93ea-fa84afef0828"
      },
      "execution_count": null,
      "outputs": [
        {
          "output_type": "stream",
          "name": "stdout",
          "text": [
            "Linear 2.340818611496725e+19\n",
            "Ridge 3.998413905356502e+22\n",
            "Lasso 3.0844465939438438e+25\n"
          ]
        }
      ]
    },
    {
      "cell_type": "markdown",
      "source": [
        "**Seems like Ridge and Lasso have not done a great job This time, Unfortunately**"
      ],
      "metadata": {
        "id": "ud9TcGcTLqpB"
      }
    }
  ]
}