{
  "nbformat": 4,
  "nbformat_minor": 0,
  "metadata": {
    "colab": {
      "name": "Untitled5.ipynb",
      "provenance": [],
      "collapsed_sections": [],
      "authorship_tag": "ABX9TyO/pedHaQPSYE1jmR/qp3YL",
      "include_colab_link": true
    },
    "kernelspec": {
      "name": "python3",
      "display_name": "Python 3"
    },
    "language_info": {
      "name": "python"
    }
  },
  "cells": [
    {
      "cell_type": "markdown",
      "metadata": {
        "id": "view-in-github",
        "colab_type": "text"
      },
      "source": [
        "<a href=\"https://colab.research.google.com/github/piyushpp07/DataScience/blob/main/Fertilizer%20Prediction.ipynb\" target=\"_parent\"><img src=\"https://colab.research.google.com/assets/colab-badge.svg\" alt=\"Open In Colab\"/></a>"
      ]
    },
    {
      "cell_type": "code",
      "execution_count": 8,
      "metadata": {
        "id": "M-4u-aJRcO2x"
      },
      "outputs": [],
      "source": [
        "import pandas as pd\n",
        "import matplotlib.pyplot as plt\n",
        "import seaborn as sns"
      ]
    },
    {
      "cell_type": "code",
      "source": [
        "df = pd.read_csv(\"https://raw.githubusercontent.com/harsh-HD6/Fertilizer-Prediction-Smart-Farming/master/FertPredictDataset.csv\")"
      ],
      "metadata": {
        "id": "W5Lc7Dcscypv"
      },
      "execution_count": 2,
      "outputs": []
    },
    {
      "cell_type": "code",
      "source": [
        "df.head()"
      ],
      "metadata": {
        "colab": {
          "base_uri": "https://localhost:8080/",
          "height": 206
        },
        "id": "OXGcgKbvdBKd",
        "outputId": "ceacfcd5-fced-4592-bd96-2c35b8a7209a"
      },
      "execution_count": 3,
      "outputs": [
        {
          "output_type": "execute_result",
          "data": {
            "text/html": [
              "\n",
              "  <div id=\"df-dc97650b-cb23-4352-a188-abaca561357c\">\n",
              "    <div class=\"colab-df-container\">\n",
              "      <div>\n",
              "<style scoped>\n",
              "    .dataframe tbody tr th:only-of-type {\n",
              "        vertical-align: middle;\n",
              "    }\n",
              "\n",
              "    .dataframe tbody tr th {\n",
              "        vertical-align: top;\n",
              "    }\n",
              "\n",
              "    .dataframe thead th {\n",
              "        text-align: right;\n",
              "    }\n",
              "</style>\n",
              "<table border=\"1\" class=\"dataframe\">\n",
              "  <thead>\n",
              "    <tr style=\"text-align: right;\">\n",
              "      <th></th>\n",
              "      <th>Ca</th>\n",
              "      <th>Mg</th>\n",
              "      <th>K</th>\n",
              "      <th>S</th>\n",
              "      <th>N</th>\n",
              "      <th>Lime</th>\n",
              "      <th>C</th>\n",
              "      <th>P</th>\n",
              "      <th>Moisture</th>\n",
              "      <th>class</th>\n",
              "    </tr>\n",
              "  </thead>\n",
              "  <tbody>\n",
              "    <tr>\n",
              "      <th>0</th>\n",
              "      <td>0.7</td>\n",
              "      <td>0.6</td>\n",
              "      <td>0.8</td>\n",
              "      <td>0.8</td>\n",
              "      <td>0.7</td>\n",
              "      <td>0.8</td>\n",
              "      <td>0.3</td>\n",
              "      <td>0.1</td>\n",
              "      <td>0.9</td>\n",
              "      <td>4</td>\n",
              "    </tr>\n",
              "    <tr>\n",
              "      <th>1</th>\n",
              "      <td>0.5</td>\n",
              "      <td>0.5</td>\n",
              "      <td>0.4</td>\n",
              "      <td>0.3</td>\n",
              "      <td>0.5</td>\n",
              "      <td>0.7</td>\n",
              "      <td>0.5</td>\n",
              "      <td>0.7</td>\n",
              "      <td>0.8</td>\n",
              "      <td>2</td>\n",
              "    </tr>\n",
              "    <tr>\n",
              "      <th>2</th>\n",
              "      <td>0.6</td>\n",
              "      <td>0.8</td>\n",
              "      <td>0.1</td>\n",
              "      <td>0.3</td>\n",
              "      <td>0.7</td>\n",
              "      <td>0.5</td>\n",
              "      <td>0.5</td>\n",
              "      <td>0.6</td>\n",
              "      <td>0.6</td>\n",
              "      <td>2</td>\n",
              "    </tr>\n",
              "    <tr>\n",
              "      <th>3</th>\n",
              "      <td>0.7</td>\n",
              "      <td>0.7</td>\n",
              "      <td>0.7</td>\n",
              "      <td>0.5</td>\n",
              "      <td>0.8</td>\n",
              "      <td>0.7</td>\n",
              "      <td>0.4</td>\n",
              "      <td>0.1</td>\n",
              "      <td>0.7</td>\n",
              "      <td>4</td>\n",
              "    </tr>\n",
              "    <tr>\n",
              "      <th>4</th>\n",
              "      <td>0.8</td>\n",
              "      <td>0.8</td>\n",
              "      <td>0.2</td>\n",
              "      <td>0.3</td>\n",
              "      <td>0.5</td>\n",
              "      <td>0.5</td>\n",
              "      <td>0.7</td>\n",
              "      <td>0.8</td>\n",
              "      <td>0.5</td>\n",
              "      <td>2</td>\n",
              "    </tr>\n",
              "  </tbody>\n",
              "</table>\n",
              "</div>\n",
              "      <button class=\"colab-df-convert\" onclick=\"convertToInteractive('df-dc97650b-cb23-4352-a188-abaca561357c')\"\n",
              "              title=\"Convert this dataframe to an interactive table.\"\n",
              "              style=\"display:none;\">\n",
              "        \n",
              "  <svg xmlns=\"http://www.w3.org/2000/svg\" height=\"24px\"viewBox=\"0 0 24 24\"\n",
              "       width=\"24px\">\n",
              "    <path d=\"M0 0h24v24H0V0z\" fill=\"none\"/>\n",
              "    <path d=\"M18.56 5.44l.94 2.06.94-2.06 2.06-.94-2.06-.94-.94-2.06-.94 2.06-2.06.94zm-11 1L8.5 8.5l.94-2.06 2.06-.94-2.06-.94L8.5 2.5l-.94 2.06-2.06.94zm10 10l.94 2.06.94-2.06 2.06-.94-2.06-.94-.94-2.06-.94 2.06-2.06.94z\"/><path d=\"M17.41 7.96l-1.37-1.37c-.4-.4-.92-.59-1.43-.59-.52 0-1.04.2-1.43.59L10.3 9.45l-7.72 7.72c-.78.78-.78 2.05 0 2.83L4 21.41c.39.39.9.59 1.41.59.51 0 1.02-.2 1.41-.59l7.78-7.78 2.81-2.81c.8-.78.8-2.07 0-2.86zM5.41 20L4 18.59l7.72-7.72 1.47 1.35L5.41 20z\"/>\n",
              "  </svg>\n",
              "      </button>\n",
              "      \n",
              "  <style>\n",
              "    .colab-df-container {\n",
              "      display:flex;\n",
              "      flex-wrap:wrap;\n",
              "      gap: 12px;\n",
              "    }\n",
              "\n",
              "    .colab-df-convert {\n",
              "      background-color: #E8F0FE;\n",
              "      border: none;\n",
              "      border-radius: 50%;\n",
              "      cursor: pointer;\n",
              "      display: none;\n",
              "      fill: #1967D2;\n",
              "      height: 32px;\n",
              "      padding: 0 0 0 0;\n",
              "      width: 32px;\n",
              "    }\n",
              "\n",
              "    .colab-df-convert:hover {\n",
              "      background-color: #E2EBFA;\n",
              "      box-shadow: 0px 1px 2px rgba(60, 64, 67, 0.3), 0px 1px 3px 1px rgba(60, 64, 67, 0.15);\n",
              "      fill: #174EA6;\n",
              "    }\n",
              "\n",
              "    [theme=dark] .colab-df-convert {\n",
              "      background-color: #3B4455;\n",
              "      fill: #D2E3FC;\n",
              "    }\n",
              "\n",
              "    [theme=dark] .colab-df-convert:hover {\n",
              "      background-color: #434B5C;\n",
              "      box-shadow: 0px 1px 3px 1px rgba(0, 0, 0, 0.15);\n",
              "      filter: drop-shadow(0px 1px 2px rgba(0, 0, 0, 0.3));\n",
              "      fill: #FFFFFF;\n",
              "    }\n",
              "  </style>\n",
              "\n",
              "      <script>\n",
              "        const buttonEl =\n",
              "          document.querySelector('#df-dc97650b-cb23-4352-a188-abaca561357c button.colab-df-convert');\n",
              "        buttonEl.style.display =\n",
              "          google.colab.kernel.accessAllowed ? 'block' : 'none';\n",
              "\n",
              "        async function convertToInteractive(key) {\n",
              "          const element = document.querySelector('#df-dc97650b-cb23-4352-a188-abaca561357c');\n",
              "          const dataTable =\n",
              "            await google.colab.kernel.invokeFunction('convertToInteractive',\n",
              "                                                     [key], {});\n",
              "          if (!dataTable) return;\n",
              "\n",
              "          const docLinkHtml = 'Like what you see? Visit the ' +\n",
              "            '<a target=\"_blank\" href=https://colab.research.google.com/notebooks/data_table.ipynb>data table notebook</a>'\n",
              "            + ' to learn more about interactive tables.';\n",
              "          element.innerHTML = '';\n",
              "          dataTable['output_type'] = 'display_data';\n",
              "          await google.colab.output.renderOutput(dataTable, element);\n",
              "          const docLink = document.createElement('div');\n",
              "          docLink.innerHTML = docLinkHtml;\n",
              "          element.appendChild(docLink);\n",
              "        }\n",
              "      </script>\n",
              "    </div>\n",
              "  </div>\n",
              "  "
            ],
            "text/plain": [
              "    Ca   Mg    K    S    N  Lime    C    P  Moisture  class\n",
              "0  0.7  0.6  0.8  0.8  0.7   0.8  0.3  0.1       0.9      4\n",
              "1  0.5  0.5  0.4  0.3  0.5   0.7  0.5  0.7       0.8      2\n",
              "2  0.6  0.8  0.1  0.3  0.7   0.5  0.5  0.6       0.6      2\n",
              "3  0.7  0.7  0.7  0.5  0.8   0.7  0.4  0.1       0.7      4\n",
              "4  0.8  0.8  0.2  0.3  0.5   0.5  0.7  0.8       0.5      2"
            ]
          },
          "metadata": {},
          "execution_count": 3
        }
      ]
    },
    {
      "cell_type": "code",
      "source": [
        "df['class'].unique()"
      ],
      "metadata": {
        "colab": {
          "base_uri": "https://localhost:8080/"
        },
        "id": "HgmvRjjodIUu",
        "outputId": "e6f3f0a5-0bf0-41e8-eeb5-0a64d27cd192"
      },
      "execution_count": 6,
      "outputs": [
        {
          "output_type": "execute_result",
          "data": {
            "text/plain": [
              "array([4, 2, 3, 1])"
            ]
          },
          "metadata": {},
          "execution_count": 6
        }
      ]
    },
    {
      "cell_type": "code",
      "source": [
        "df.corr()"
      ],
      "metadata": {
        "colab": {
          "base_uri": "https://localhost:8080/",
          "height": 363
        },
        "id": "SKGhRLXTdSzG",
        "outputId": "6f462700-fa49-4b35-ecf9-8a2cf2b195fb"
      },
      "execution_count": 7,
      "outputs": [
        {
          "output_type": "execute_result",
          "data": {
            "text/html": [
              "\n",
              "  <div id=\"df-a661f206-f71f-4644-8d2b-1574a039c640\">\n",
              "    <div class=\"colab-df-container\">\n",
              "      <div>\n",
              "<style scoped>\n",
              "    .dataframe tbody tr th:only-of-type {\n",
              "        vertical-align: middle;\n",
              "    }\n",
              "\n",
              "    .dataframe tbody tr th {\n",
              "        vertical-align: top;\n",
              "    }\n",
              "\n",
              "    .dataframe thead th {\n",
              "        text-align: right;\n",
              "    }\n",
              "</style>\n",
              "<table border=\"1\" class=\"dataframe\">\n",
              "  <thead>\n",
              "    <tr style=\"text-align: right;\">\n",
              "      <th></th>\n",
              "      <th>Ca</th>\n",
              "      <th>Mg</th>\n",
              "      <th>K</th>\n",
              "      <th>S</th>\n",
              "      <th>N</th>\n",
              "      <th>Lime</th>\n",
              "      <th>C</th>\n",
              "      <th>P</th>\n",
              "      <th>Moisture</th>\n",
              "      <th>class</th>\n",
              "    </tr>\n",
              "  </thead>\n",
              "  <tbody>\n",
              "    <tr>\n",
              "      <th>Ca</th>\n",
              "      <td>1.000000</td>\n",
              "      <td>0.707258</td>\n",
              "      <td>-0.226349</td>\n",
              "      <td>-0.269071</td>\n",
              "      <td>-0.245110</td>\n",
              "      <td>-0.227061</td>\n",
              "      <td>-0.248851</td>\n",
              "      <td>-0.253150</td>\n",
              "      <td>-0.002017</td>\n",
              "      <td>0.661435</td>\n",
              "    </tr>\n",
              "    <tr>\n",
              "      <th>Mg</th>\n",
              "      <td>0.707258</td>\n",
              "      <td>1.000000</td>\n",
              "      <td>-0.216604</td>\n",
              "      <td>-0.258066</td>\n",
              "      <td>-0.264978</td>\n",
              "      <td>-0.254434</td>\n",
              "      <td>-0.220229</td>\n",
              "      <td>-0.247591</td>\n",
              "      <td>0.004989</td>\n",
              "      <td>0.648667</td>\n",
              "    </tr>\n",
              "    <tr>\n",
              "      <th>K</th>\n",
              "      <td>-0.226349</td>\n",
              "      <td>-0.216604</td>\n",
              "      <td>1.000000</td>\n",
              "      <td>0.712416</td>\n",
              "      <td>-0.233815</td>\n",
              "      <td>-0.233857</td>\n",
              "      <td>-0.245245</td>\n",
              "      <td>-0.229705</td>\n",
              "      <td>0.007292</td>\n",
              "      <td>0.226810</td>\n",
              "    </tr>\n",
              "    <tr>\n",
              "      <th>S</th>\n",
              "      <td>-0.269071</td>\n",
              "      <td>-0.258066</td>\n",
              "      <td>0.712416</td>\n",
              "      <td>1.000000</td>\n",
              "      <td>-0.222415</td>\n",
              "      <td>-0.220274</td>\n",
              "      <td>-0.210707</td>\n",
              "      <td>-0.213164</td>\n",
              "      <td>0.008440</td>\n",
              "      <td>0.189433</td>\n",
              "    </tr>\n",
              "    <tr>\n",
              "      <th>N</th>\n",
              "      <td>-0.245110</td>\n",
              "      <td>-0.264978</td>\n",
              "      <td>-0.233815</td>\n",
              "      <td>-0.222415</td>\n",
              "      <td>1.000000</td>\n",
              "      <td>0.716382</td>\n",
              "      <td>-0.212163</td>\n",
              "      <td>-0.220237</td>\n",
              "      <td>-0.001343</td>\n",
              "      <td>-0.253519</td>\n",
              "    </tr>\n",
              "    <tr>\n",
              "      <th>Lime</th>\n",
              "      <td>-0.227061</td>\n",
              "      <td>-0.254434</td>\n",
              "      <td>-0.233857</td>\n",
              "      <td>-0.220274</td>\n",
              "      <td>0.716382</td>\n",
              "      <td>1.000000</td>\n",
              "      <td>-0.254151</td>\n",
              "      <td>-0.252595</td>\n",
              "      <td>0.022894</td>\n",
              "      <td>-0.211604</td>\n",
              "    </tr>\n",
              "    <tr>\n",
              "      <th>C</th>\n",
              "      <td>-0.248851</td>\n",
              "      <td>-0.220229</td>\n",
              "      <td>-0.245245</td>\n",
              "      <td>-0.210707</td>\n",
              "      <td>-0.212163</td>\n",
              "      <td>-0.254151</td>\n",
              "      <td>1.000000</td>\n",
              "      <td>0.703104</td>\n",
              "      <td>0.003600</td>\n",
              "      <td>-0.645959</td>\n",
              "    </tr>\n",
              "    <tr>\n",
              "      <th>P</th>\n",
              "      <td>-0.253150</td>\n",
              "      <td>-0.247591</td>\n",
              "      <td>-0.229705</td>\n",
              "      <td>-0.213164</td>\n",
              "      <td>-0.220237</td>\n",
              "      <td>-0.252595</td>\n",
              "      <td>0.703104</td>\n",
              "      <td>1.000000</td>\n",
              "      <td>0.019670</td>\n",
              "      <td>-0.654427</td>\n",
              "    </tr>\n",
              "    <tr>\n",
              "      <th>Moisture</th>\n",
              "      <td>-0.002017</td>\n",
              "      <td>0.004989</td>\n",
              "      <td>0.007292</td>\n",
              "      <td>0.008440</td>\n",
              "      <td>-0.001343</td>\n",
              "      <td>0.022894</td>\n",
              "      <td>0.003600</td>\n",
              "      <td>0.019670</td>\n",
              "      <td>1.000000</td>\n",
              "      <td>-0.009726</td>\n",
              "    </tr>\n",
              "    <tr>\n",
              "      <th>class</th>\n",
              "      <td>0.661435</td>\n",
              "      <td>0.648667</td>\n",
              "      <td>0.226810</td>\n",
              "      <td>0.189433</td>\n",
              "      <td>-0.253519</td>\n",
              "      <td>-0.211604</td>\n",
              "      <td>-0.645959</td>\n",
              "      <td>-0.654427</td>\n",
              "      <td>-0.009726</td>\n",
              "      <td>1.000000</td>\n",
              "    </tr>\n",
              "  </tbody>\n",
              "</table>\n",
              "</div>\n",
              "      <button class=\"colab-df-convert\" onclick=\"convertToInteractive('df-a661f206-f71f-4644-8d2b-1574a039c640')\"\n",
              "              title=\"Convert this dataframe to an interactive table.\"\n",
              "              style=\"display:none;\">\n",
              "        \n",
              "  <svg xmlns=\"http://www.w3.org/2000/svg\" height=\"24px\"viewBox=\"0 0 24 24\"\n",
              "       width=\"24px\">\n",
              "    <path d=\"M0 0h24v24H0V0z\" fill=\"none\"/>\n",
              "    <path d=\"M18.56 5.44l.94 2.06.94-2.06 2.06-.94-2.06-.94-.94-2.06-.94 2.06-2.06.94zm-11 1L8.5 8.5l.94-2.06 2.06-.94-2.06-.94L8.5 2.5l-.94 2.06-2.06.94zm10 10l.94 2.06.94-2.06 2.06-.94-2.06-.94-.94-2.06-.94 2.06-2.06.94z\"/><path d=\"M17.41 7.96l-1.37-1.37c-.4-.4-.92-.59-1.43-.59-.52 0-1.04.2-1.43.59L10.3 9.45l-7.72 7.72c-.78.78-.78 2.05 0 2.83L4 21.41c.39.39.9.59 1.41.59.51 0 1.02-.2 1.41-.59l7.78-7.78 2.81-2.81c.8-.78.8-2.07 0-2.86zM5.41 20L4 18.59l7.72-7.72 1.47 1.35L5.41 20z\"/>\n",
              "  </svg>\n",
              "      </button>\n",
              "      \n",
              "  <style>\n",
              "    .colab-df-container {\n",
              "      display:flex;\n",
              "      flex-wrap:wrap;\n",
              "      gap: 12px;\n",
              "    }\n",
              "\n",
              "    .colab-df-convert {\n",
              "      background-color: #E8F0FE;\n",
              "      border: none;\n",
              "      border-radius: 50%;\n",
              "      cursor: pointer;\n",
              "      display: none;\n",
              "      fill: #1967D2;\n",
              "      height: 32px;\n",
              "      padding: 0 0 0 0;\n",
              "      width: 32px;\n",
              "    }\n",
              "\n",
              "    .colab-df-convert:hover {\n",
              "      background-color: #E2EBFA;\n",
              "      box-shadow: 0px 1px 2px rgba(60, 64, 67, 0.3), 0px 1px 3px 1px rgba(60, 64, 67, 0.15);\n",
              "      fill: #174EA6;\n",
              "    }\n",
              "\n",
              "    [theme=dark] .colab-df-convert {\n",
              "      background-color: #3B4455;\n",
              "      fill: #D2E3FC;\n",
              "    }\n",
              "\n",
              "    [theme=dark] .colab-df-convert:hover {\n",
              "      background-color: #434B5C;\n",
              "      box-shadow: 0px 1px 3px 1px rgba(0, 0, 0, 0.15);\n",
              "      filter: drop-shadow(0px 1px 2px rgba(0, 0, 0, 0.3));\n",
              "      fill: #FFFFFF;\n",
              "    }\n",
              "  </style>\n",
              "\n",
              "      <script>\n",
              "        const buttonEl =\n",
              "          document.querySelector('#df-a661f206-f71f-4644-8d2b-1574a039c640 button.colab-df-convert');\n",
              "        buttonEl.style.display =\n",
              "          google.colab.kernel.accessAllowed ? 'block' : 'none';\n",
              "\n",
              "        async function convertToInteractive(key) {\n",
              "          const element = document.querySelector('#df-a661f206-f71f-4644-8d2b-1574a039c640');\n",
              "          const dataTable =\n",
              "            await google.colab.kernel.invokeFunction('convertToInteractive',\n",
              "                                                     [key], {});\n",
              "          if (!dataTable) return;\n",
              "\n",
              "          const docLinkHtml = 'Like what you see? Visit the ' +\n",
              "            '<a target=\"_blank\" href=https://colab.research.google.com/notebooks/data_table.ipynb>data table notebook</a>'\n",
              "            + ' to learn more about interactive tables.';\n",
              "          element.innerHTML = '';\n",
              "          dataTable['output_type'] = 'display_data';\n",
              "          await google.colab.output.renderOutput(dataTable, element);\n",
              "          const docLink = document.createElement('div');\n",
              "          docLink.innerHTML = docLinkHtml;\n",
              "          element.appendChild(docLink);\n",
              "        }\n",
              "      </script>\n",
              "    </div>\n",
              "  </div>\n",
              "  "
            ],
            "text/plain": [
              "                Ca        Mg         K  ...         P  Moisture     class\n",
              "Ca        1.000000  0.707258 -0.226349  ... -0.253150 -0.002017  0.661435\n",
              "Mg        0.707258  1.000000 -0.216604  ... -0.247591  0.004989  0.648667\n",
              "K        -0.226349 -0.216604  1.000000  ... -0.229705  0.007292  0.226810\n",
              "S        -0.269071 -0.258066  0.712416  ... -0.213164  0.008440  0.189433\n",
              "N        -0.245110 -0.264978 -0.233815  ... -0.220237 -0.001343 -0.253519\n",
              "Lime     -0.227061 -0.254434 -0.233857  ... -0.252595  0.022894 -0.211604\n",
              "C        -0.248851 -0.220229 -0.245245  ...  0.703104  0.003600 -0.645959\n",
              "P        -0.253150 -0.247591 -0.229705  ...  1.000000  0.019670 -0.654427\n",
              "Moisture -0.002017  0.004989  0.007292  ...  0.019670  1.000000 -0.009726\n",
              "class     0.661435  0.648667  0.226810  ... -0.654427 -0.009726  1.000000\n",
              "\n",
              "[10 rows x 10 columns]"
            ]
          },
          "metadata": {},
          "execution_count": 7
        }
      ]
    },
    {
      "cell_type": "code",
      "source": [
        "sns.displot(df['class'])"
      ],
      "metadata": {
        "colab": {
          "base_uri": "https://localhost:8080/",
          "height": 386
        },
        "id": "FCOefv6lddXH",
        "outputId": "439ee74b-d2b6-43d1-e2c3-3c9c55ae1b5e"
      },
      "execution_count": 10,
      "outputs": [
        {
          "output_type": "execute_result",
          "data": {
            "text/plain": [
              "<seaborn.axisgrid.FacetGrid at 0x7f7b4041e1d0>"
            ]
          },
          "metadata": {},
          "execution_count": 10
        },
        {
          "output_type": "display_data",
          "data": {
            "image/png": "[encoded data removed]",
            "text/plain": [
              "<Figure size 360x360 with 1 Axes>"
            ]
          },
          "metadata": {
            "needs_background": "light"
          }
        }
      ]
    },
    {
      "cell_type": "code",
      "source": [
        "sns.distplot(df['Moisture'])"
      ],
      "metadata": {
        "colab": {
          "base_uri": "https://localhost:8080/",
          "height": 351
        },
        "id": "_a-mjezmeNC9",
        "outputId": "585f4671-efad-436b-a127-c8d6db2b792e"
      },
      "execution_count": 11,
      "outputs": [
        {
          "output_type": "stream",
          "name": "stderr",
          "text": [
            "/usr/local/lib/python3.7/dist-packages/seaborn/distributions.py:2619: FutureWarning: `distplot` is a deprecated function and will be removed in a future version. Please adapt your code to use either `displot` (a figure-level function with similar flexibility) or `histplot` (an axes-level function for histograms).\n",
            "  warnings.warn(msg, FutureWarning)\n"
          ]
        },
        {
          "output_type": "execute_result",
          "data": {
            "text/plain": [
              "<matplotlib.axes._subplots.AxesSubplot at 0x7f7b37a0d790>"
            ]
          },
          "metadata": {},
          "execution_count": 11
        },
        {
          "output_type": "display_data",
          "data": {
            "image/png": "[encoded data removed]",
            "text/plain": [
              "<Figure size 432x288 with 1 Axes>"
            ]
          },
          "metadata": {
            "needs_background": "light"
          }
        }
      ]
    },
    {
      "cell_type": "code",
      "source": [
        "sns.boxplot(df['Moisture'],df['class'])"
      ],
      "metadata": {
        "colab": {
          "base_uri": "https://localhost:8080/",
          "height": 351
        },
        "id": "5_oyePTTeU8v",
        "outputId": "c4168840-284f-408c-fd74-652f5ec59475"
      },
      "execution_count": 12,
      "outputs": [
        {
          "output_type": "stream",
          "name": "stderr",
          "text": [
            "/usr/local/lib/python3.7/dist-packages/seaborn/_decorators.py:43: FutureWarning: Pass the following variables as keyword args: x, y. From version 0.12, the only valid positional argument will be `data`, and passing other arguments without an explicit keyword will result in an error or misinterpretation.\n",
            "  FutureWarning\n"
          ]
        },
        {
          "output_type": "execute_result",
          "data": {
            "text/plain": [
              "<matplotlib.axes._subplots.AxesSubplot at 0x7f7b354e3310>"
            ]
          },
          "metadata": {},
          "execution_count": 12
        },
        {
          "output_type": "display_data",
          "data": {
            "image/png": "[encoded data removed]",
            "text/plain": [
              "<Figure size 432x288 with 1 Axes>"
            ]
          },
          "metadata": {
            "needs_background": "light"
          }
        }
      ]
    },
    {
      "cell_type": "code",
      "source": [
        "plt.scatter(df['Ca'],df['class'])"
      ],
      "metadata": {
        "colab": {
          "base_uri": "https://localhost:8080/",
          "height": 282
        },
        "id": "iLE9JX-Lec_Q",
        "outputId": "8c995093-53b3-4d4d-cf27-d7bad95d5d60"
      },
      "execution_count": 13,
      "outputs": [
        {
          "output_type": "execute_result",
          "data": {
            "text/plain": [
              "<matplotlib.collections.PathCollection at 0x7f7b3542f7d0>"
            ]
          },
          "metadata": {},
          "execution_count": 13
        },
        {
          "output_type": "display_data",
          "data": {
            "image/png": "[encoded data removed]",
            "text/plain": [
              "<Figure size 432x288 with 1 Axes>"
            ]
          },
          "metadata": {
            "needs_background": "light"
          }
        }
      ]
    },
    {
      "cell_type": "code",
      "source": [
        "plt.scatter(df['Moisture'],df['class'])"
      ],
      "metadata": {
        "colab": {
          "base_uri": "https://localhost:8080/",
          "height": 282
        },
        "id": "642yyBvFe-gR",
        "outputId": "8019396e-320c-4acd-e071-c5c6505ae06c"
      },
      "execution_count": 14,
      "outputs": [
        {
          "output_type": "execute_result",
          "data": {
            "text/plain": [
              "<matplotlib.collections.PathCollection at 0x7f7b34fed850>"
            ]
          },
          "metadata": {},
          "execution_count": 14
        },
        {
          "output_type": "display_data",
          "data": {
            "image/png": "[encoded data removed]",
            "text/plain": [
              "<Figure size 432x288 with 1 Axes>"
            ]
          },
          "metadata": {
            "needs_background": "light"
          }
        }
      ]
    },
    {
      "cell_type": "code",
      "source": [
        "plt.scatter(df['S'],df['class'])"
      ],
      "metadata": {
        "colab": {
          "base_uri": "https://localhost:8080/",
          "height": 282
        },
        "id": "xVff9kDBfLSl",
        "outputId": "f238b23c-744b-4e7a-9c84-1072983761a4"
      },
      "execution_count": 17,
      "outputs": [
        {
          "output_type": "execute_result",
          "data": {
            "text/plain": [
              "<matplotlib.collections.PathCollection at 0x7f7b34fd1990>"
            ]
          },
          "metadata": {},
          "execution_count": 17
        },
        {
          "output_type": "display_data",
          "data": {
            "image/png": "[encoded data removed]",
            "text/plain": [
              "<Figure size 432x288 with 1 Axes>"
            ]
          },
          "metadata": {
            "needs_background": "light"
          }
        }
      ]
    },
    {
      "cell_type": "code",
      "source": [
        "X = df.drop(['class'],axis = 1)"
      ],
      "metadata": {
        "id": "xvqkuIGffVi9"
      },
      "execution_count": 18,
      "outputs": []
    },
    {
      "cell_type": "code",
      "source": [
        "Y =  df['class']"
      ],
      "metadata": {
        "id": "k64RFrlfi-2h"
      },
      "execution_count": 19,
      "outputs": []
    },
    {
      "cell_type": "code",
      "source": [
        "X.head()"
      ],
      "metadata": {
        "colab": {
          "base_uri": "https://localhost:8080/",
          "height": 206
        },
        "id": "5NDbqu_JjBXe",
        "outputId": "1e91a57c-9cc9-4e89-f412-a5b9dae097d8"
      },
      "execution_count": 22,
      "outputs": [
        {
          "output_type": "execute_result",
          "data": {
            "text/html": [
              "\n",
              "  <div id=\"df-7b2417b7-e5db-4f8c-b878-e98eba2c0864\">\n",
              "    <div class=\"colab-df-container\">\n",
              "      <div>\n",
              "<style scoped>\n",
              "    .dataframe tbody tr th:only-of-type {\n",
              "        vertical-align: middle;\n",
              "    }\n",
              "\n",
              "    .dataframe tbody tr th {\n",
              "        vertical-align: top;\n",
              "    }\n",
              "\n",
              "    .dataframe thead th {\n",
              "        text-align: right;\n",
              "    }\n",
              "</style>\n",
              "<table border=\"1\" class=\"dataframe\">\n",
              "  <thead>\n",
              "    <tr style=\"text-align: right;\">\n",
              "      <th></th>\n",
              "      <th>Ca</th>\n",
              "      <th>Mg</th>\n",
              "      <th>K</th>\n",
              "      <th>S</th>\n",
              "      <th>N</th>\n",
              "      <th>Lime</th>\n",
              "      <th>C</th>\n",
              "      <th>P</th>\n",
              "      <th>Moisture</th>\n",
              "    </tr>\n",
              "  </thead>\n",
              "  <tbody>\n",
              "    <tr>\n",
              "      <th>0</th>\n",
              "      <td>0.7</td>\n",
              "      <td>0.6</td>\n",
              "      <td>0.8</td>\n",
              "      <td>0.8</td>\n",
              "      <td>0.7</td>\n",
              "      <td>0.8</td>\n",
              "      <td>0.3</td>\n",
              "      <td>0.1</td>\n",
              "      <td>0.9</td>\n",
              "    </tr>\n",
              "    <tr>\n",
              "      <th>1</th>\n",
              "      <td>0.5</td>\n",
              "      <td>0.5</td>\n",
              "      <td>0.4</td>\n",
              "      <td>0.3</td>\n",
              "      <td>0.5</td>\n",
              "      <td>0.7</td>\n",
              "      <td>0.5</td>\n",
              "      <td>0.7</td>\n",
              "      <td>0.8</td>\n",
              "    </tr>\n",
              "    <tr>\n",
              "      <th>2</th>\n",
              "      <td>0.6</td>\n",
              "      <td>0.8</td>\n",
              "      <td>0.1</td>\n",
              "      <td>0.3</td>\n",
              "      <td>0.7</td>\n",
              "      <td>0.5</td>\n",
              "      <td>0.5</td>\n",
              "      <td>0.6</td>\n",
              "      <td>0.6</td>\n",
              "    </tr>\n",
              "    <tr>\n",
              "      <th>3</th>\n",
              "      <td>0.7</td>\n",
              "      <td>0.7</td>\n",
              "      <td>0.7</td>\n",
              "      <td>0.5</td>\n",
              "      <td>0.8</td>\n",
              "      <td>0.7</td>\n",
              "      <td>0.4</td>\n",
              "      <td>0.1</td>\n",
              "      <td>0.7</td>\n",
              "    </tr>\n",
              "    <tr>\n",
              "      <th>4</th>\n",
              "      <td>0.8</td>\n",
              "      <td>0.8</td>\n",
              "      <td>0.2</td>\n",
              "      <td>0.3</td>\n",
              "      <td>0.5</td>\n",
              "      <td>0.5</td>\n",
              "      <td>0.7</td>\n",
              "      <td>0.8</td>\n",
              "      <td>0.5</td>\n",
              "    </tr>\n",
              "  </tbody>\n",
              "</table>\n",
              "</div>\n",
              "      <button class=\"colab-df-convert\" onclick=\"convertToInteractive('df-7b2417b7-e5db-4f8c-b878-e98eba2c0864')\"\n",
              "              title=\"Convert this dataframe to an interactive table.\"\n",
              "              style=\"display:none;\">\n",
              "        \n",
              "  <svg xmlns=\"http://www.w3.org/2000/svg\" height=\"24px\"viewBox=\"0 0 24 24\"\n",
              "       width=\"24px\">\n",
              "    <path d=\"M0 0h24v24H0V0z\" fill=\"none\"/>\n",
              "    <path d=\"M18.56 5.44l.94 2.06.94-2.06 2.06-.94-2.06-.94-.94-2.06-.94 2.06-2.06.94zm-11 1L8.5 8.5l.94-2.06 2.06-.94-2.06-.94L8.5 2.5l-.94 2.06-2.06.94zm10 10l.94 2.06.94-2.06 2.06-.94-2.06-.94-.94-2.06-.94 2.06-2.06.94z\"/><path d=\"M17.41 7.96l-1.37-1.37c-.4-.4-.92-.59-1.43-.59-.52 0-1.04.2-1.43.59L10.3 9.45l-7.72 7.72c-.78.78-.78 2.05 0 2.83L4 21.41c.39.39.9.59 1.41.59.51 0 1.02-.2 1.41-.59l7.78-7.78 2.81-2.81c.8-.78.8-2.07 0-2.86zM5.41 20L4 18.59l7.72-7.72 1.47 1.35L5.41 20z\"/>\n",
              "  </svg>\n",
              "      </button>\n",
              "      \n",
              "  <style>\n",
              "    .colab-df-container {\n",
              "      display:flex;\n",
              "      flex-wrap:wrap;\n",
              "      gap: 12px;\n",
              "    }\n",
              "\n",
              "    .colab-df-convert {\n",
              "      background-color: #E8F0FE;\n",
              "      border: none;\n",
              "      border-radius: 50%;\n",
              "      cursor: pointer;\n",
              "      display: none;\n",
              "      fill: #1967D2;\n",
              "      height: 32px;\n",
              "      padding: 0 0 0 0;\n",
              "      width: 32px;\n",
              "    }\n",
              "\n",
              "    .colab-df-convert:hover {\n",
              "      background-color: #E2EBFA;\n",
              "      box-shadow: 0px 1px 2px rgba(60, 64, 67, 0.3), 0px 1px 3px 1px rgba(60, 64, 67, 0.15);\n",
              "      fill: #174EA6;\n",
              "    }\n",
              "\n",
              "    [theme=dark] .colab-df-convert {\n",
              "      background-color: #3B4455;\n",
              "      fill: #D2E3FC;\n",
              "    }\n",
              "\n",
              "    [theme=dark] .colab-df-convert:hover {\n",
              "      background-color: #434B5C;\n",
              "      box-shadow: 0px 1px 3px 1px rgba(0, 0, 0, 0.15);\n",
              "      filter: drop-shadow(0px 1px 2px rgba(0, 0, 0, 0.3));\n",
              "      fill: #FFFFFF;\n",
              "    }\n",
              "  </style>\n",
              "\n",
              "      <script>\n",
              "        const buttonEl =\n",
              "          document.querySelector('#df-7b2417b7-e5db-4f8c-b878-e98eba2c0864 button.colab-df-convert');\n",
              "        buttonEl.style.display =\n",
              "          google.colab.kernel.accessAllowed ? 'block' : 'none';\n",
              "\n",
              "        async function convertToInteractive(key) {\n",
              "          const element = document.querySelector('#df-7b2417b7-e5db-4f8c-b878-e98eba2c0864');\n",
              "          const dataTable =\n",
              "            await google.colab.kernel.invokeFunction('convertToInteractive',\n",
              "                                                     [key], {});\n",
              "          if (!dataTable) return;\n",
              "\n",
              "          const docLinkHtml = 'Like what you see? Visit the ' +\n",
              "            '<a target=\"_blank\" href=https://colab.research.google.com/notebooks/data_table.ipynb>data table notebook</a>'\n",
              "            + ' to learn more about interactive tables.';\n",
              "          element.innerHTML = '';\n",
              "          dataTable['output_type'] = 'display_data';\n",
              "          await google.colab.output.renderOutput(dataTable, element);\n",
              "          const docLink = document.createElement('div');\n",
              "          docLink.innerHTML = docLinkHtml;\n",
              "          element.appendChild(docLink);\n",
              "        }\n",
              "      </script>\n",
              "    </div>\n",
              "  </div>\n",
              "  "
            ],
            "text/plain": [
              "    Ca   Mg    K    S    N  Lime    C    P  Moisture\n",
              "0  0.7  0.6  0.8  0.8  0.7   0.8  0.3  0.1       0.9\n",
              "1  0.5  0.5  0.4  0.3  0.5   0.7  0.5  0.7       0.8\n",
              "2  0.6  0.8  0.1  0.3  0.7   0.5  0.5  0.6       0.6\n",
              "3  0.7  0.7  0.7  0.5  0.8   0.7  0.4  0.1       0.7\n",
              "4  0.8  0.8  0.2  0.3  0.5   0.5  0.7  0.8       0.5"
            ]
          },
          "metadata": {},
          "execution_count": 22
        }
      ]
    },
    {
      "cell_type": "code",
      "source": [
        "from sklearn.model_selection import train_test_split"
      ],
      "metadata": {
        "id": "U8dfKRg9lGch"
      },
      "execution_count": 23,
      "outputs": []
    },
    {
      "cell_type": "code",
      "source": [
        "X_train, X_test, y_train, y_test = train_test_split(X, Y, test_size = 0.3)"
      ],
      "metadata": {
        "id": "CsW4VtknlgFK"
      },
      "execution_count": 38,
      "outputs": []
    },
    {
      "cell_type": "code",
      "source": [
        "X_train.shape,X_test.shape,y_train.shape,y_test.shape"
      ],
      "metadata": {
        "colab": {
          "base_uri": "https://localhost:8080/"
        },
        "id": "JU5CWhbRljG_",
        "outputId": "36404e66-f14f-477f-8658-2ffa1ca18d4c"
      },
      "execution_count": 39,
      "outputs": [
        {
          "output_type": "execute_result",
          "data": {
            "text/plain": [
              "((1119, 9), (480, 9), (1119,), (480,))"
            ]
          },
          "metadata": {},
          "execution_count": 39
        }
      ]
    },
    {
      "cell_type": "code",
      "source": [
        "from sklearn.ensemble import RandomForestClassifier\n",
        "\n",
        "rfcl = RandomForestClassifier()"
      ],
      "metadata": {
        "id": "xL7IBU9UlzxZ"
      },
      "execution_count": 40,
      "outputs": []
    },
    {
      "cell_type": "code",
      "source": [
        "rfcl.fit(X_train,y_train)"
      ],
      "metadata": {
        "colab": {
          "base_uri": "https://localhost:8080/"
        },
        "id": "nOyWFzMSmMsb",
        "outputId": "dcc59b9f-9e55-42ff-e9dd-8f9affc32448"
      },
      "execution_count": 41,
      "outputs": [
        {
          "output_type": "execute_result",
          "data": {
            "text/plain": [
              "RandomForestClassifier()"
            ]
          },
          "metadata": {},
          "execution_count": 41
        }
      ]
    },
    {
      "cell_type": "code",
      "source": [
        "rfcl.score(X_test,y_test)"
      ],
      "metadata": {
        "colab": {
          "base_uri": "https://localhost:8080/"
        },
        "id": "mZ1RkOjKmRXM",
        "outputId": "42cb4d0d-1bf9-4b43-b5fd-4e68bd335d01"
      },
      "execution_count": 42,
      "outputs": [
        {
          "output_type": "execute_result",
          "data": {
            "text/plain": [
              "1.0"
            ]
          },
          "metadata": {},
          "execution_count": 42
        }
      ]
    },
    {
      "cell_type": "code",
      "source": [
        "rfpd = rfcl.predict(X_test)"
      ],
      "metadata": {
        "id": "2UzFKTDgmbEl"
      },
      "execution_count": 43,
      "outputs": []
    },
    {
      "cell_type": "code",
      "source": [
        "print(list(zip(rfpd,y_test)))\n"
      ],
      "metadata": {
        "colab": {
          "base_uri": "https://localhost:8080/"
        },
        "id": "BJiG9keLmlqV",
        "outputId": "e26d2216-5abb-4fe8-89fc-8d46b0a59aa8"
      },
      "execution_count": 44,
      "outputs": [
        {
          "output_type": "stream",
          "name": "stdout",
          "text": [
            "[(3, 3), (3, 3), (1, 1), (1, 1), (3, 3), (1, 1), (4, 4), (2, 2), (1, 1), (1, 1), (4, 4), (2, 2), (4, 4), (1, 1), (2, 2), (1, 1), (1, 1), (4, 4), (4, 4), (3, 3), (3, 3), (4, 4), (1, 1), (3, 3), (4, 4), (4, 4), (1, 1), (1, 1), (1, 1), (2, 2), (3, 3), (2, 2), (1, 1), (4, 4), (1, 1), (1, 1), (1, 1), (3, 3), (3, 3), (2, 2), (4, 4), (4, 4), (4, 4), (1, 1), (2, 2), (2, 2), (1, 1), (4, 4), (2, 2), (4, 4), (3, 3), (2, 2), (2, 2), (1, 1), (1, 1), (1, 1), (1, 1), (2, 2), (4, 4), (3, 3), (2, 2), (2, 2), (3, 3), (2, 2), (1, 1), (1, 1), (3, 3), (1, 1), (2, 2), (3, 3), (1, 1), (3, 3), (4, 4), (4, 4), (3, 3), (1, 1), (1, 1), (1, 1), (4, 4), (2, 2), (3, 3), (3, 3), (2, 2), (4, 4), (4, 4), (1, 1), (4, 4), (1, 1), (2, 2), (3, 3), (1, 1), (1, 1), (2, 2), (3, 3), (1, 1), (4, 4), (1, 1), (3, 3), (2, 2), (2, 2), (3, 3), (2, 2), (2, 2), (2, 2), (2, 2), (4, 4), (4, 4), (1, 1), (1, 1), (2, 2), (3, 3), (2, 2), (2, 2), (2, 2), (2, 2), (3, 3), (2, 2), (4, 4), (3, 3), (4, 4), (3, 3), (3, 3), (4, 4), (4, 4), (2, 2), (4, 4), (3, 3), (1, 1), (4, 4), (1, 1), (2, 2), (1, 1), (3, 3), (4, 4), (2, 2), (2, 2), (2, 2), (1, 1), (2, 2), (4, 4), (1, 1), (3, 3), (4, 4), (4, 4), (4, 4), (3, 3), (3, 3), (4, 4), (4, 4), (3, 3), (1, 1), (3, 3), (3, 3), (3, 3), (2, 2), (2, 2), (1, 1), (1, 1), (1, 1), (1, 1), (3, 3), (1, 1), (1, 1), (4, 4), (2, 2), (2, 2), (4, 4), (3, 3), (3, 3), (3, 3), (2, 2), (1, 1), (3, 3), (2, 2), (2, 2), (3, 3), (4, 4), (1, 1), (2, 2), (4, 4), (3, 3), (2, 2), (4, 4), (4, 4), (1, 1), (4, 4), (2, 2), (4, 4), (2, 2), (1, 1), (1, 1), (2, 2), (4, 4), (1, 1), (1, 1), (2, 2), (2, 2), (1, 1), (4, 4), (3, 3), (1, 1), (2, 2), (1, 1), (3, 3), (4, 4), (4, 4), (1, 1), (4, 4), (4, 4), (3, 3), (2, 2), (1, 1), (3, 3), (3, 3), (2, 2), (4, 4), (3, 3), (4, 4), (4, 4), (4, 4), (3, 3), (2, 2), (4, 4), (4, 4), (4, 4), (4, 4), (2, 2), (1, 1), (2, 2), (4, 4), (3, 3), (2, 2), (4, 4), (3, 3), (2, 2), (4, 4), (4, 4), (2, 2), (4, 4), (3, 3), (4, 4), (2, 2), (1, 1), (2, 2), (3, 3), (3, 3), (2, 2), (4, 4), (1, 1), (1, 1), (2, 2), (3, 3), (3, 3), (3, 3), (3, 3), (2, 2), (2, 2), (1, 1), (4, 4), (1, 1), (4, 4), (1, 1), (3, 3), (1, 1), (1, 1), (1, 1), (3, 3), (2, 2), (4, 4), (2, 2), (2, 2), (4, 4), (2, 2), (1, 1), (2, 2), (4, 4), (2, 2), (2, 2), (3, 3), (3, 3), (1, 1), (3, 3), (3, 3), (2, 2), (2, 2), (3, 3), (3, 3), (3, 3), (3, 3), (3, 3), (3, 3), (2, 2), (2, 2), (2, 2), (1, 1), (2, 2), (4, 4), (2, 2), (3, 3), (2, 2), (1, 1), (2, 2), (4, 4), (3, 3), (3, 3), (4, 4), (2, 2), (1, 1), (2, 2), (1, 1), (2, 2), (3, 3), (2, 2), (3, 3), (2, 2), (4, 4), (1, 1), (2, 2), (4, 4), (3, 3), (4, 4), (1, 1), (2, 2), (1, 1), (3, 3), (1, 1), (2, 2), (2, 2), (4, 4), (3, 3), (3, 3), (1, 1), (4, 4), (3, 3), (4, 4), (3, 3), (1, 1), (4, 4), (2, 2), (1, 1), (1, 1), (4, 4), (1, 1), (4, 4), (2, 2), (3, 3), (4, 4), (4, 4), (2, 2), (4, 4), (3, 3), (4, 4), (3, 3), (1, 1), (1, 1), (3, 3), (2, 2), (2, 2), (4, 4), (4, 4), (4, 4), (3, 3), (4, 4), (2, 2), (2, 2), (1, 1), (4, 4), (3, 3), (3, 3), (2, 2), (1, 1), (1, 1), (4, 4), (2, 2), (3, 3), (3, 3), (1, 1), (4, 4), (4, 4), (4, 4), (4, 4), (1, 1), (2, 2), (4, 4), (3, 3), (1, 1), (1, 1), (2, 2), (3, 3), (3, 3), (2, 2), (2, 2), (2, 2), (1, 1), (3, 3), (3, 3), (1, 1), (1, 1), (1, 1), (2, 2), (4, 4), (1, 1), (4, 4), (3, 3), (2, 2), (1, 1), (1, 1), (1, 1), (2, 2), (3, 3), (1, 1), (1, 1), (4, 4), (2, 2), (4, 4), (1, 1), (4, 4), (1, 1), (3, 3), (4, 4), (1, 1), (3, 3), (3, 3), (1, 1), (4, 4), (3, 3), (3, 3), (1, 1), (1, 1), (1, 1), (4, 4), (2, 2), (2, 2), (3, 3), (1, 1), (3, 3), (4, 4), (1, 1), (4, 4), (3, 3), (3, 3), (3, 3), (2, 2), (4, 4), (1, 1), (4, 4), (1, 1), (3, 3), (4, 4), (4, 4), (1, 1), (2, 2), (4, 4), (3, 3), (2, 2), (1, 1), (3, 3), (1, 1), (2, 2), (3, 3), (3, 3), (4, 4), (3, 3), (1, 1), (1, 1), (3, 3), (2, 2), (1, 1), (3, 3), (4, 4), (2, 2), (2, 2), (1, 1), (1, 1), (4, 4), (2, 2), (3, 3), (3, 3), (3, 3), (4, 4)]\n"
          ]
        }
      ]
    },
    {
      "cell_type": "code",
      "source": [
        "from sklearn.linear_model import LogisticRegression\n",
        "model =LogisticRegression( )"
      ],
      "metadata": {
        "id": "JtMH9FUImrr1"
      },
      "execution_count": 48,
      "outputs": []
    },
    {
      "cell_type": "code",
      "source": [
        "model.fit(X_train,y_train)"
      ],
      "metadata": {
        "colab": {
          "base_uri": "https://localhost:8080/"
        },
        "id": "haGK9HKUn2iL",
        "outputId": "a437ed34-4a53-4361-886a-e6dc88488227"
      },
      "execution_count": 49,
      "outputs": [
        {
          "output_type": "execute_result",
          "data": {
            "text/plain": [
              "LogisticRegression()"
            ]
          },
          "metadata": {},
          "execution_count": 49
        }
      ]
    },
    {
      "cell_type": "code",
      "source": [
        "model.score(X_test,y_test)"
      ],
      "metadata": {
        "colab": {
          "base_uri": "https://localhost:8080/"
        },
        "id": "oR-_uyftoE07",
        "outputId": "622b2c06-6691-45fd-8b81-3762875d1349"
      },
      "execution_count": 51,
      "outputs": [
        {
          "output_type": "execute_result",
          "data": {
            "text/plain": [
              "1.0"
            ]
          },
          "metadata": {},
          "execution_count": 51
        }
      ]
    }
  ]
}